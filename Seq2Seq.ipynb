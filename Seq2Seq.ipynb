{
  "nbformat": 4,
  "nbformat_minor": 0,
  "metadata": {
    "colab": {
      "name": "Seq2Seq.ipynb",
      "provenance": [],
      "collapsed_sections": []
    },
    "kernelspec": {
      "name": "python3",
      "display_name": "Python 3"
    },
    "accelerator": "GPU"
  },
  "cells": [
    {
      "cell_type": "markdown",
      "metadata": {
        "id": "jDcuZqj0CWpv"
      },
      "source": [
        "# Seq2Seq models implementation"
      ]
    },
    {
      "cell_type": "markdown",
      "metadata": {
        "id": "Oh6gl_u6E3Bq"
      },
      "source": [
        "## Data Loading"
      ]
    },
    {
      "cell_type": "markdown",
      "metadata": {
        "id": "MYNz3AYXCd0-"
      },
      "source": [
        "I will use the anki dataset for the translation task. There are a bit more than 178K of translations\n"
      ]
    },
    {
      "cell_type": "code",
      "metadata": {
        "id": "iO3MCQHqG3OU",
        "outputId": "dbcff2cd-f51c-4faa-9ad5-7421469bc14b",
        "colab": {
          "base_uri": "https://localhost:8080/",
          "height": 278
        }
      },
      "source": [
        "import re\n",
        "import copy\n",
        "import torch\n",
        "import numpy as np\n",
        "import torch.nn as nn\n",
        "\n",
        "from matplotlib import pyplot as plt\n",
        "from torch.utils.data.sampler import SubsetRandomSampler\n",
        "from tqdm import tqdm\n",
        "\n",
        "!wget https://www.manythings.org/anki/fra-eng.zip\n",
        "!unzip fra-eng.zip\n",
        "\n",
        "with open(\"fra.txt\") as f:\n",
        "  sentences = f.readlines()\n",
        "\n",
        "# number of sentences\n",
        "len(sentences)\n"
      ],
      "execution_count": null,
      "outputs": [
        {
          "output_type": "stream",
          "text": [
            "--2020-09-22 12:00:55--  https://www.manythings.org/anki/fra-eng.zip\n",
            "Resolving www.manythings.org (www.manythings.org)... 172.67.173.198, 104.24.109.196, 104.24.108.196, ...\n",
            "Connecting to www.manythings.org (www.manythings.org)|172.67.173.198|:443... connected.\n",
            "HTTP request sent, awaiting response... 200 OK\n",
            "Length: 6073837 (5.8M) [application/zip]\n",
            "Saving to: ‘fra-eng.zip.2’\n",
            "\n",
            "fra-eng.zip.2       100%[===================>]   5.79M  20.7MB/s    in 0.3s    \n",
            "\n",
            "2020-09-22 12:00:55 (20.7 MB/s) - ‘fra-eng.zip.2’ saved [6073837/6073837]\n",
            "\n",
            "Archive:  fra-eng.zip\n",
            "replace _about.txt? [y]es, [n]o, [A]ll, [N]one, [r]ename: n\n",
            "replace fra.txt? [y]es, [n]o, [A]ll, [N]one, [r]ename: n\n"
          ],
          "name": "stdout"
        },
        {
          "output_type": "execute_result",
          "data": {
            "text/plain": [
              "178009"
            ]
          },
          "metadata": {
            "tags": []
          },
          "execution_count": 126
        }
      ]
    },
    {
      "cell_type": "markdown",
      "metadata": {
        "id": "oh2iZAfyE7uM"
      },
      "source": [
        "## Data Preprocessing"
      ]
    },
    {
      "cell_type": "markdown",
      "metadata": {
        "id": "fUCQrd0jCwwO"
      },
      "source": [
        "We are going to translate from English to French.\n",
        "\n",
        "Now I show the distribution of the length for both the translation and the original text."
      ]
    },
    {
      "cell_type": "code",
      "metadata": {
        "id": "p67LAeiVEBU3"
      },
      "source": [
        "#TODO add the normal extraction of sentences from the original lines"
      ],
      "execution_count": null,
      "outputs": []
    },
    {
      "cell_type": "code",
      "metadata": {
        "id": "ySlSf61aC6uR",
        "outputId": "b439742e-6753-4381-86c0-f83429bebc2b",
        "colab": {
          "base_uri": "https://localhost:8080/",
          "height": 282
        }
      },
      "source": [
        "plt.hist([len(sentence.split(\"\\t\")[0].split(' ')) for sentence in sentences], range=(1,20), alpha=0.5, label=\"English\")\n",
        "plt.hist([len(sentence.split(\"\\t\")[1].split(' ')) for sentence in sentences], range=(1,20), alpha=0.5, label=\"French\")\n",
        "plt.legend(loc='upper right')"
      ],
      "execution_count": null,
      "outputs": [
        {
          "output_type": "execute_result",
          "data": {
            "text/plain": [
              "<matplotlib.legend.Legend at 0x7fae58b6ef28>"
            ]
          },
          "metadata": {
            "tags": []
          },
          "execution_count": 12
        },
        {
          "output_type": "display_data",
          "data": {
            "image/png": "[encoded data removed]",
            "text/plain": [
              "<Figure size 432x288 with 1 Axes>"
            ]
          },
          "metadata": {
            "tags": [],
            "needs_background": "light"
          }
        }
      ]
    },
    {
      "cell_type": "markdown",
      "metadata": {
        "id": "zKJoDb3SEyLa"
      },
      "source": [
        "As we can see French sentences tend to be longer. Later, when sentences is truncated, the limits will be a bit different"
      ]
    },
    {
      "cell_type": "markdown",
      "metadata": {
        "id": "UzkOpd2_FYlC"
      },
      "source": [
        "Now, let's preprocess the texts and extract from them preprocessed sentences and the vocabulary"
      ]
    },
    {
      "cell_type": "code",
      "metadata": {
        "id": "WTP6NY6hFCAB"
      },
      "source": [
        "#TODO increase the length of the sentence"
      ],
      "execution_count": null,
      "outputs": []
    },
    {
      "cell_type": "code",
      "metadata": {
        "id": "VB0u-0ljGNKY"
      },
      "source": [
        "# Let's shuffle the sentences\n",
        "np.random.seed(42)\n",
        "np.random.shuffle(sentences)"
      ],
      "execution_count": null,
      "outputs": []
    },
    {
      "cell_type": "code",
      "metadata": {
        "id": "vYoao8Eha784",
        "outputId": "012e072a-3e5b-4c61-f653-6e7c56537b89",
        "colab": {
          "base_uri": "https://localhost:8080/",
          "height": 34
        }
      },
      "source": [
        "NUM_INSTANCES = 20000\n",
        "MAX_ENG_LEN = 8\n",
        "MAX_FRE_LEN = 9\n",
        "eng_sentences, fre_sentences = [], []\n",
        "eng_words, fre_words = set(), set()\n",
        "for i in tqdm(range(NUM_INSTANCES)):\n",
        "  # find only letters in sentences\n",
        "  eng_sent, fre_sent = [\"<sos>\"], [\"<sos>\"]\n",
        "  eng_sent += re.findall(r\"\\w+\", sentences[i].split(\"\\t\")[0]) \n",
        "  fre_sent += re.findall(r\"\\w+\", sentences[i].split(\"\\t\")[1])\n",
        "  # change to lowercase\n",
        "  eng_sent = [x.lower() for x in eng_sent]\n",
        "  fre_sent = [x.lower() for x in fre_sent]\n",
        "\n",
        "  if len(eng_sent) >= MAX_ENG_LEN - 1:\n",
        "    eng_sent = eng_sent[:MAX_ENG_LEN - 1]\n",
        "  if len(fre_sent) >= MAX_FRE_LEN - 1:\n",
        "    fre_sent = fre_sent[:MAX_FRE_LEN - 1]\n",
        "\n",
        "  eng_sent.append(\"<eos>\")\n",
        "  fre_sent.append(\"<eos>\")\n",
        "  \n",
        "  for _ in range(MAX_ENG_LEN - len(eng_sent)):\n",
        "    eng_sent.append(\"<pad>\")\n",
        "\n",
        "  for _ in range(MAX_FRE_LEN - len(fre_sent)):\n",
        "    fre_sent.append(\"<pad>\")\n",
        "  \n",
        "  # add parsed sentences\n",
        "  eng_sentences.append(eng_sent)\n",
        "  fre_sentences.append(fre_sent)\n",
        "\n",
        "  # update unique words\n",
        "  eng_words.update(eng_sent)\n",
        "  fre_words.update(fre_sent)"
      ],
      "execution_count": null,
      "outputs": [
        {
          "output_type": "stream",
          "text": [
            "100%|██████████| 20000/20000 [00:00<00:00, 82758.41it/s]\n"
          ],
          "name": "stderr"
        }
      ]
    },
    {
      "cell_type": "code",
      "metadata": {
        "id": "nvBOVcidJRRx",
        "outputId": "0d467f14-0d57-4552-b407-7a18f50ae584",
        "colab": {
          "base_uri": "https://localhost:8080/",
          "height": 282
        }
      },
      "source": [
        "plt.hist([len(sentence) for sentence in eng_sentences], range=(1,10), alpha=0.5, label=\"English\")\n",
        "plt.hist([len(sentence) for sentence in fre_sentences], range=(1,10), alpha=0.5, label=\"French\")\n",
        "plt.legend(loc='upper right')"
      ],
      "execution_count": null,
      "outputs": [
        {
          "output_type": "execute_result",
          "data": {
            "text/plain": [
              "<matplotlib.legend.Legend at 0x7fae57ff14a8>"
            ]
          },
          "metadata": {
            "tags": []
          },
          "execution_count": 27
        },
        {
          "output_type": "display_data",
          "data": {
            "image/png": "[encoded data removed]",
            "text/plain": [
              "<Figure size 432x288 with 1 Axes>"
            ]
          },
          "metadata": {
            "tags": [],
            "needs_background": "light"
          }
        }
      ]
    },
    {
      "cell_type": "markdown",
      "metadata": {
        "id": "EIAF9t43JnRt"
      },
      "source": [
        "As we can see, all sentences have the same length, as we expected. Let's see an example of one sentence"
      ]
    },
    {
      "cell_type": "code",
      "metadata": {
        "id": "yB8VG1hhJwDK",
        "outputId": "22a3ef51-483b-47af-aed2-cc45cdc60247",
        "colab": {
          "base_uri": "https://localhost:8080/",
          "height": 34
        }
      },
      "source": [
        "fre_sentences[56]"
      ],
      "execution_count": null,
      "outputs": [
        {
          "output_type": "execute_result",
          "data": {
            "text/plain": [
              "['<sos>', 'j', 'ai', 'choisi', 'd', 'attendre', '<eos>', '<pad>', '<pad>']"
            ]
          },
          "metadata": {
            "tags": []
          },
          "execution_count": 30
        }
      ]
    },
    {
      "cell_type": "code",
      "metadata": {
        "id": "om6jBl2BcIAO",
        "outputId": "bce86d7c-b271-4757-8935-db1832a57624",
        "colab": {
          "base_uri": "https://localhost:8080/",
          "height": 104
        }
      },
      "source": [
        "eng_words, fre_words = list(eng_words), list(fre_words)\n",
        "\n",
        "# encode each token into index\n",
        "for i in tqdm(range(len(eng_sentences))):\n",
        "  eng_sentences[i] = [eng_words.index(x) for x in eng_sentences[i]]\n",
        "  fre_sentences[i] = [fre_words.index(x) for x in fre_sentences[i]]\n",
        "\n",
        "idx = 10\n",
        "print(eng_sentences[idx])\n",
        "print([eng_words[x] for x in eng_sentences[idx]])\n",
        "print(fre_sentences[idx])\n",
        "print([fre_words[x] for x in fre_sentences[idx]])"
      ],
      "execution_count": null,
      "outputs": [
        {
          "output_type": "stream",
          "text": [
            "100%|██████████| 20000/20000 [00:20<00:00, 979.27it/s]"
          ],
          "name": "stderr"
        },
        {
          "output_type": "stream",
          "text": [
            "[827, 3672, 5528, 3996, 1580, 154, 1308, 980]\n",
            "['<sos>', 'he', 'took', 'advantage', 'of', 'every', 'opportunity', '<eos>']\n",
            "[1264, 3803, 1902, 6810, 8093, 3362, 6347, 4150, 1480]\n",
            "['<sos>', 'il', 'a', 'saisi', 'toutes', 'les', 'opportunités', 'qui', '<eos>']\n"
          ],
          "name": "stdout"
        },
        {
          "output_type": "stream",
          "text": [
            "\n"
          ],
          "name": "stderr"
        }
      ]
    },
    {
      "cell_type": "code",
      "metadata": {
        "id": "J74QCQlpckX9"
      },
      "source": [
        "ENG_VOCAB_SIZE = len(eng_words)\n",
        "FRE_VOCAB_SIZE = len(fre_words)\n",
        "NUM_EPOCHS = 100\n",
        "HIDDEN_SIZE = 128\n",
        "EMBEDDING_DIM = 30\n",
        "BATCH_SIZE = 128\n",
        "LEARNING_RATE = 1e-2\n",
        "DEVICE = torch.device('cuda') \n",
        "INITIAL_PATIENCE = 10"
      ],
      "execution_count": null,
      "outputs": []
    },
    {
      "cell_type": "code",
      "metadata": {
        "id": "3Emw1MordqJZ"
      },
      "source": [
        "class MTDataset(torch.utils.data.Dataset):\n",
        "  def __init__(self):\n",
        "    # import and initialize dataset    \n",
        "    self.source = np.array(eng_sentences, dtype = int)\n",
        "    self.target = np.array(fre_sentences, dtype = int)\n",
        "    \n",
        "  def __getitem__(self, idx):\n",
        "    # get item by index\n",
        "    return self.source[idx], self.target[idx]\n",
        "  \n",
        "  def __len__(self):\n",
        "    # returns length of data\n",
        "    return len(self.source)\n",
        "\n",
        "np.random.seed(777)   # for reproducibility\n",
        "dataset = MTDataset()\n",
        "NUM_INSTANCES = len(dataset)\n",
        "TEST_RATIO = 0.3\n",
        "TEST_SIZE = int(NUM_INSTANCES * 0.3)\n",
        "\n",
        "indices = list(range(NUM_INSTANCES))\n",
        "\n",
        "test_idx = np.random.choice(indices, size = TEST_SIZE, replace = False)\n",
        "train_idx = list(set(indices) - set(test_idx))\n",
        "train_sampler, test_sampler = SubsetRandomSampler(train_idx), SubsetRandomSampler(test_idx)\n",
        "\n",
        "train_loader = torch.utils.data.DataLoader(dataset, batch_size = BATCH_SIZE, sampler = train_sampler)\n",
        "test_loader = torch.utils.data.DataLoader(dataset, batch_size = BATCH_SIZE, sampler = test_sampler)\n"
      ],
      "execution_count": null,
      "outputs": []
    },
    {
      "cell_type": "code",
      "metadata": {
        "id": "jOEeXqMOe81E"
      },
      "source": [
        "class Encoder(nn.Module):\n",
        "  def __init__(self, vocab_size, hidden_size, embedding_dim, device):\n",
        "    super(Encoder, self).__init__()\n",
        "    self.hidden_size = hidden_size\n",
        "    self.vocab_size = vocab_size\n",
        "    self.device = device\n",
        "    self.embedding_dim = embedding_dim\n",
        "\n",
        "    self.embedding = nn.Embedding(vocab_size, embedding_dim)\n",
        "    self.gru = nn.GRU(embedding_dim, hidden_size)\n",
        "\n",
        "  def forward(self, x, h0):\n",
        "    # x = (BATCH_SIZE, MAX_SENT_LEN) = (128, 10)\n",
        "    x = self.embedding(x)\n",
        "    x = x.permute(1, 0, 2)\n",
        "    # x = (MAX_SENT_LEN, BATCH_SIZE, EMBEDDING_DIM) = (10, 128, 30)\n",
        "    out, h0 = self.gru(x, h0)\n",
        "    # out = (MAX_SENT_LEN, BATCH_SIZE, HIDDEN_SIZE) = (128, 10, 16)\n",
        "    # h0 = (1, BATCH_SIZE, HIDDEN_SIZE) = (1, 128, 16)\n",
        "    return out, h0\n"
      ],
      "execution_count": null,
      "outputs": []
    },
    {
      "cell_type": "code",
      "metadata": {
        "id": "O1YFdIvtgntO"
      },
      "source": [
        "class Decoder(nn.Module):\n",
        "  def __init__(self, vocab_size, hidden_size, embedding_dim):\n",
        "    super(Decoder, self).__init__()\n",
        "    self.hidden_size = hidden_size\n",
        "    self.vocab_size = vocab_size\n",
        "\n",
        "    self.embedding = nn.Embedding(vocab_size, embedding_dim)\n",
        "    self.gru = nn.GRU(embedding_dim, hidden_size)\n",
        "    self.dense = nn.Linear(hidden_size, vocab_size)\n",
        "    self.softmax = nn.LogSoftmax(dim = 1)\n",
        "  \n",
        "  def forward(self, x, h0):\n",
        "    # x = (BATCH_SIZE) = (128)\n",
        "    x = self.embedding(x).unsqueeze(0)\n",
        "    # x = (1, BATCH_SIZE, EMBEDDING_DIM) = (1, 128, 30)\n",
        "    x, h0 = self.gru(x, h0)\n",
        "    x = self.dense(x.squeeze(0))\n",
        "    x = self.softmax(x)\n",
        "    return x, h0\n"
      ],
      "execution_count": null,
      "outputs": []
    },
    {
      "cell_type": "code",
      "metadata": {
        "id": "plq6OR2cjpLg"
      },
      "source": [
        "class Seq2Seq(nn.Module):\n",
        "  def __init__(self, encoder, decoder, device):\n",
        "    super(Seq2Seq, self).__init__()\n",
        "    self.encoder = encoder\n",
        "    self.decoder = decoder\n",
        "    self.device = device\n",
        "\n",
        "  def forward(self, source, target, tf_ratio = .5):\n",
        "    # target = (BATCH_SIZE, MAX_SENT_LEN) = (128, 10)\n",
        "    # source = (BATCH_SIZE, MAX_SENT_LEN) = (128, 10)\n",
        "    dec_outputs = torch.zeros(target.size(0), target.size(1), self.decoder.vocab_size).to(self.device)\n",
        "    h0 = torch.zeros(1, source.size(0), self.encoder.hidden_size).to(self.device)\n",
        "    \n",
        "    _, h0 = self.encoder(source, h0)\n",
        "    # dec_input = (BATCH_SIZE) = (128)\n",
        "    dec_input = target[:, 0]\n",
        "    \n",
        "    for k in range(target.size(1)):\n",
        "      # out = (BATCH_SIZE, VOCAB_SIZE) = (128, XXX)\n",
        "      # h0 = (1, BATCH_SIZE, HIDDEN_SIZE) = (1, 128, 16)\n",
        "      out, h0 = self.decoder(dec_input, h0)\n",
        "      dec_outputs[:, k, :] = out\n",
        "      dec_input = target[:, k]\n",
        "      if np.random.choice([True, False], p = [tf_ratio, 1-tf_ratio]):\n",
        "        dec_input = target[:, k]\n",
        "      else:\n",
        "        dec_input = out.argmax(1).detach()\n",
        "\n",
        "    return dec_outputs"
      ],
      "execution_count": null,
      "outputs": []
    },
    {
      "cell_type": "code",
      "metadata": {
        "id": "nzlNLUB3V7Z2"
      },
      "source": [
        "encoder = Encoder(ENG_VOCAB_SIZE, HIDDEN_SIZE, EMBEDDING_DIM, DEVICE).to(DEVICE)\n",
        "decoder = Decoder(FRE_VOCAB_SIZE, HIDDEN_SIZE, EMBEDDING_DIM).to(DEVICE)\n",
        "seq2seq = Seq2Seq(encoder, decoder, DEVICE).to(DEVICE)\n",
        "criterion = nn.CrossEntropyLoss()\n",
        "optimizer = torch.optim.Adam(seq2seq.parameters(), lr = LEARNING_RATE)"
      ],
      "execution_count": null,
      "outputs": []
    },
    {
      "cell_type": "code",
      "metadata": {
        "id": "ssSt-KW0MSl6"
      },
      "source": [
        "def train(network, data_loader, optimizer, criterion, train_loss_trace):\n",
        "  network.train()\n",
        "  current_loss = 0\n",
        "  for i, (x, y) in enumerate(data_loader):\n",
        "    x, y  = x.to(DEVICE), y.to(DEVICE)\n",
        "    optimizer.zero_grad()\n",
        "    outputs = network(x, y)\n",
        "    outputs = outputs.resize(outputs.size(0) * outputs.size(1), outputs.size(-1))\n",
        "    y = y.resize(y.size(0) * y.size(1))\n",
        "    loss = criterion(outputs, y)\n",
        "    loss.backward()\n",
        "    optimizer.step()\n",
        "    current_loss += loss.item()\n",
        "  train_loss_trace.append(current_loss / len(data_loader))"
      ],
      "execution_count": null,
      "outputs": []
    },
    {
      "cell_type": "code",
      "metadata": {
        "id": "VRKm1kTeTklX"
      },
      "source": [
        "def test(network, data_loader, criterion, test_loss_trace, test_accuracy_trace):\n",
        "  network.eval()\n",
        "  accuracy = 0\n",
        "  current_loss = 0\n",
        "  with torch.no_grad():\n",
        "    for i, (x, y) in enumerate(data_loader):\n",
        "      x, y  = x.to(DEVICE), y.to(DEVICE)\n",
        "      outputs = network(x, y)\n",
        "      outputs = outputs.resize(outputs.size(0) * outputs.size(1), outputs.size(-1))\n",
        "      y = y.resize(y.size(0) * y.size(1))\n",
        "      loss = criterion(outputs, y)\n",
        "      current_loss += loss.item()\n",
        "      pred = outputs.data.max(1, keepdim=True)[1]\n",
        "      accuracy += pred.eq(y.data.view_as(pred)).sum()\n",
        "  test_loss_trace.append(current_loss / len(data_loader)) \n",
        "  test_accuracy_trace.append(accuracy.item() / (len(data_loader.dataset) * MAX_FRE_LEN)) "
      ],
      "execution_count": null,
      "outputs": []
    },
    {
      "cell_type": "code",
      "metadata": {
        "id": "aiZj_G9PR_Vp",
        "outputId": "6219e63a-52ab-4ce0-9f4d-d4432fc1468e",
        "colab": {
          "base_uri": "https://localhost:8080/",
          "height": 1000
        }
      },
      "source": [
        "%%time\n",
        "train_loss_trace = []\n",
        "test_loss_trace = []\n",
        "accuracy_trace = []\n",
        "patience = INITIAL_PATIENCE\n",
        "min_loss = 100000\n",
        "for epoch in tqdm(range(1, NUM_EPOCHS)):\n",
        "  if patience == 0:\n",
        "    break\n",
        "  train(seq2seq, train_loader, optimizer, criterion, train_loss_trace)\n",
        "  test(seq2seq, test_loader, criterion, test_loss_trace, accuracy_trace)\n",
        "  print(f\"For epoch {epoch}\\n Train loss: {train_loss_trace[-1]}\\t Test loss: {test_loss_trace[-1]}\\t Test accuracy: {accuracy_trace[-1]}\")\n",
        "  current_loss = test_loss_trace[-1]\n",
        "  if current_loss < min_loss:\n",
        "    min_loss = current_loss\n",
        "    patience = INITIAL_PATIENCE\n",
        "    best_model = copy.deepcopy(seq2seq)\n",
        "  else:\n",
        "    patience -= 1\n",
        "# loss curve\n",
        "plt.plot(range(1, epoch), train_loss_trace, 'r-', label = \"train\")\n",
        "plt.plot(range(1, epoch), test_loss_trace, 'r-', label = \"test\")\n",
        "plt.xlabel('Epoch')\n",
        "plt.ylabel('Loss')\n",
        "plt.show()"
      ],
      "execution_count": null,
      "outputs": [
        {
          "output_type": "stream",
          "text": [
            "\n",
            "\n",
            "\n",
            "\n",
            "\n",
            "\n",
            "\n",
            "\n",
            "\n",
            "\n",
            "\n",
            "\n",
            "  0%|          | 0/99 [00:00<?, ?it/s]\u001b[A\u001b[A\u001b[A\u001b[A\u001b[A\u001b[A\u001b[A\u001b[A\u001b[A\u001b[A\u001b[A\u001b[A/usr/local/lib/python3.6/dist-packages/torch/tensor.py:358: UserWarning: non-inplace resize is deprecated\n",
            "  warnings.warn(\"non-inplace resize is deprecated\")\n",
            "\n",
            "\n",
            "\n",
            "\n",
            "\n",
            "\n",
            "\n",
            "\n",
            "\n",
            "\n",
            "\n",
            "\n",
            "  1%|          | 1/99 [00:05<09:21,  5.73s/it]\u001b[A\u001b[A\u001b[A\u001b[A\u001b[A\u001b[A\u001b[A\u001b[A\u001b[A\u001b[A\u001b[A\u001b[A"
          ],
          "name": "stderr"
        },
        {
          "output_type": "stream",
          "text": [
            "For epoch 1\n",
            " Train loss: 4.644983207095753\t Test loss: 4.198804895928565\t Test accuracy: 0.10814444444444445\n"
          ],
          "name": "stdout"
        },
        {
          "output_type": "stream",
          "text": [
            "\n",
            "\n",
            "\n",
            "\n",
            "\n",
            "\n",
            "\n",
            "\n",
            "\n",
            "\n",
            "\n",
            "\n",
            "  2%|▏         | 2/99 [00:11<09:15,  5.72s/it]\u001b[A\u001b[A\u001b[A\u001b[A\u001b[A\u001b[A\u001b[A\u001b[A\u001b[A\u001b[A\u001b[A\u001b[A"
          ],
          "name": "stderr"
        },
        {
          "output_type": "stream",
          "text": [
            "For epoch 2\n",
            " Train loss: 3.8654367706992407\t Test loss: 3.8449236433556737\t Test accuracy: 0.12240555555555556\n"
          ],
          "name": "stdout"
        },
        {
          "output_type": "stream",
          "text": [
            "\n",
            "\n",
            "\n",
            "\n",
            "\n",
            "\n",
            "\n",
            "\n",
            "\n",
            "\n",
            "\n",
            "\n",
            "  3%|▎         | 3/99 [00:17<09:08,  5.72s/it]\u001b[A\u001b[A\u001b[A\u001b[A\u001b[A\u001b[A\u001b[A\u001b[A\u001b[A\u001b[A\u001b[A\u001b[A"
          ],
          "name": "stderr"
        },
        {
          "output_type": "stream",
          "text": [
            "For epoch 3\n",
            " Train loss: 3.484452316977761\t Test loss: 3.6167788454826844\t Test accuracy: 0.12867222222222222\n"
          ],
          "name": "stdout"
        },
        {
          "output_type": "stream",
          "text": [
            "\n",
            "\n",
            "\n",
            "\n",
            "\n",
            "\n",
            "\n",
            "\n",
            "\n",
            "\n",
            "\n",
            "\n",
            "  4%|▍         | 4/99 [00:22<09:02,  5.72s/it]\u001b[A\u001b[A\u001b[A\u001b[A\u001b[A\u001b[A\u001b[A\u001b[A\u001b[A\u001b[A\u001b[A\u001b[A"
          ],
          "name": "stderr"
        },
        {
          "output_type": "stream",
          "text": [
            "For epoch 4\n",
            " Train loss: 3.2296665473417803\t Test loss: 3.5232060868689357\t Test accuracy: 0.13486666666666666\n"
          ],
          "name": "stdout"
        },
        {
          "output_type": "stream",
          "text": [
            "\n",
            "\n",
            "\n",
            "\n",
            "\n",
            "\n",
            "\n",
            "\n",
            "\n",
            "\n",
            "\n",
            "\n",
            "  5%|▌         | 5/99 [00:28<08:58,  5.73s/it]\u001b[A\u001b[A\u001b[A\u001b[A\u001b[A\u001b[A\u001b[A\u001b[A\u001b[A\u001b[A\u001b[A\u001b[A"
          ],
          "name": "stderr"
        },
        {
          "output_type": "stream",
          "text": [
            "For epoch 5\n",
            " Train loss: 2.966776221448725\t Test loss: 3.4407210654400764\t Test accuracy: 0.13915\n"
          ],
          "name": "stdout"
        },
        {
          "output_type": "stream",
          "text": [
            "\n",
            "\n",
            "\n",
            "\n",
            "\n",
            "\n",
            "\n",
            "\n",
            "\n",
            "\n",
            "\n",
            "\n",
            "  6%|▌         | 6/99 [00:34<08:51,  5.72s/it]\u001b[A\u001b[A\u001b[A\u001b[A\u001b[A\u001b[A\u001b[A\u001b[A\u001b[A\u001b[A\u001b[A\u001b[A"
          ],
          "name": "stderr"
        },
        {
          "output_type": "stream",
          "text": [
            "For epoch 6\n",
            " Train loss: 2.7942617069591176\t Test loss: 3.4054727655776005\t Test accuracy: 0.14212777777777777\n"
          ],
          "name": "stdout"
        },
        {
          "output_type": "stream",
          "text": [
            "\n",
            "\n",
            "\n",
            "\n",
            "\n",
            "\n",
            "\n",
            "\n",
            "\n",
            "\n",
            "\n",
            "\n",
            "  7%|▋         | 7/99 [00:39<08:45,  5.71s/it]\u001b[A\u001b[A\u001b[A\u001b[A\u001b[A\u001b[A\u001b[A\u001b[A\u001b[A\u001b[A\u001b[A\u001b[A"
          ],
          "name": "stderr"
        },
        {
          "output_type": "stream",
          "text": [
            "For epoch 7\n",
            " Train loss: 2.64847956570712\t Test loss: 3.4129399543112897\t Test accuracy: 0.14195555555555556\n"
          ],
          "name": "stdout"
        },
        {
          "output_type": "stream",
          "text": [
            "\n",
            "\n",
            "\n",
            "\n",
            "\n",
            "\n",
            "\n",
            "\n",
            "\n",
            "\n",
            "\n",
            "\n",
            "  8%|▊         | 8/99 [00:45<08:40,  5.72s/it]\u001b[A\u001b[A\u001b[A\u001b[A\u001b[A\u001b[A\u001b[A\u001b[A\u001b[A\u001b[A\u001b[A\u001b[A"
          ],
          "name": "stderr"
        },
        {
          "output_type": "stream",
          "text": [
            "For epoch 8\n",
            " Train loss: 2.5304597074335273\t Test loss: 3.378380115996016\t Test accuracy: 0.14408888888888888\n"
          ],
          "name": "stdout"
        },
        {
          "output_type": "stream",
          "text": [
            "\n",
            "\n",
            "\n",
            "\n",
            "\n",
            "\n",
            "\n",
            "\n",
            "\n",
            "\n",
            "\n",
            "\n",
            "  9%|▉         | 9/99 [00:51<08:35,  5.73s/it]\u001b[A\u001b[A\u001b[A\u001b[A\u001b[A\u001b[A\u001b[A\u001b[A\u001b[A\u001b[A\u001b[A\u001b[A"
          ],
          "name": "stderr"
        },
        {
          "output_type": "stream",
          "text": [
            "For epoch 9\n",
            " Train loss: 2.4021821000359274\t Test loss: 3.447811522382371\t Test accuracy: 0.1431611111111111\n"
          ],
          "name": "stdout"
        },
        {
          "output_type": "stream",
          "text": [
            "\n",
            "\n",
            "\n",
            "\n",
            "\n",
            "\n",
            "\n",
            "\n",
            "\n",
            "\n",
            "\n",
            "\n",
            " 10%|█         | 10/99 [00:57<08:29,  5.73s/it]\u001b[A\u001b[A\u001b[A\u001b[A\u001b[A\u001b[A\u001b[A\u001b[A\u001b[A\u001b[A\u001b[A\u001b[A"
          ],
          "name": "stderr"
        },
        {
          "output_type": "stream",
          "text": [
            "For epoch 10\n",
            " Train loss: 2.333201865716414\t Test loss: 3.4181473711703685\t Test accuracy: 0.14355555555555555\n"
          ],
          "name": "stdout"
        },
        {
          "output_type": "stream",
          "text": [
            "\n",
            "\n",
            "\n",
            "\n",
            "\n",
            "\n",
            "\n",
            "\n",
            "\n",
            "\n",
            "\n",
            "\n",
            " 11%|█         | 11/99 [01:02<08:22,  5.71s/it]\u001b[A\u001b[A\u001b[A\u001b[A\u001b[A\u001b[A\u001b[A\u001b[A\u001b[A\u001b[A\u001b[A\u001b[A"
          ],
          "name": "stderr"
        },
        {
          "output_type": "stream",
          "text": [
            "For epoch 11\n",
            " Train loss: 2.251508180661635\t Test loss: 3.44636869430542\t Test accuracy: 0.14517222222222223\n"
          ],
          "name": "stdout"
        },
        {
          "output_type": "stream",
          "text": [
            "\n",
            "\n",
            "\n",
            "\n",
            "\n",
            "\n",
            "\n",
            "\n",
            "\n",
            "\n",
            "\n",
            "\n",
            " 12%|█▏        | 12/99 [01:08<08:15,  5.69s/it]\u001b[A\u001b[A\u001b[A\u001b[A\u001b[A\u001b[A\u001b[A\u001b[A\u001b[A\u001b[A\u001b[A\u001b[A"
          ],
          "name": "stderr"
        },
        {
          "output_type": "stream",
          "text": [
            "For epoch 12\n",
            " Train loss: 2.170490518483249\t Test loss: 3.3935971716617015\t Test accuracy: 0.1472\n"
          ],
          "name": "stdout"
        },
        {
          "output_type": "stream",
          "text": [
            "\n",
            "\n",
            "\n",
            "\n",
            "\n",
            "\n",
            "\n",
            "\n",
            "\n",
            "\n",
            "\n",
            "\n",
            " 13%|█▎        | 13/99 [01:14<08:10,  5.70s/it]\u001b[A\u001b[A\u001b[A\u001b[A\u001b[A\u001b[A\u001b[A\u001b[A\u001b[A\u001b[A\u001b[A\u001b[A"
          ],
          "name": "stderr"
        },
        {
          "output_type": "stream",
          "text": [
            "For epoch 13\n",
            " Train loss: 2.074116004597057\t Test loss: 3.450907752868977\t Test accuracy: 0.1459\n"
          ],
          "name": "stdout"
        },
        {
          "output_type": "stream",
          "text": [
            "\n",
            "\n",
            "\n",
            "\n",
            "\n",
            "\n",
            "\n",
            "\n",
            "\n",
            "\n",
            "\n",
            "\n",
            " 14%|█▍        | 14/99 [01:19<08:03,  5.69s/it]\u001b[A\u001b[A\u001b[A\u001b[A\u001b[A\u001b[A\u001b[A\u001b[A\u001b[A\u001b[A\u001b[A\u001b[A"
          ],
          "name": "stderr"
        },
        {
          "output_type": "stream",
          "text": [
            "For epoch 14\n",
            " Train loss: 1.978364429690621\t Test loss: 3.5221485635067555\t Test accuracy: 0.14555555555555555\n"
          ],
          "name": "stdout"
        },
        {
          "output_type": "stream",
          "text": [
            "\n",
            "\n",
            "\n",
            "\n",
            "\n",
            "\n",
            "\n",
            "\n",
            "\n",
            "\n",
            "\n",
            "\n",
            " 15%|█▌        | 15/99 [01:25<07:59,  5.71s/it]\u001b[A\u001b[A\u001b[A\u001b[A\u001b[A\u001b[A\u001b[A\u001b[A\u001b[A\u001b[A\u001b[A\u001b[A"
          ],
          "name": "stderr"
        },
        {
          "output_type": "stream",
          "text": [
            "For epoch 15\n",
            " Train loss: 1.9292199319059198\t Test loss: 3.45915916118216\t Test accuracy: 0.14748333333333333\n"
          ],
          "name": "stdout"
        },
        {
          "output_type": "stream",
          "text": [
            "\n",
            "\n",
            "\n",
            "\n",
            "\n",
            "\n",
            "\n",
            "\n",
            "\n",
            "\n",
            "\n",
            "\n",
            " 16%|█▌        | 16/99 [01:31<07:53,  5.71s/it]\u001b[A\u001b[A\u001b[A\u001b[A\u001b[A\u001b[A\u001b[A\u001b[A\u001b[A\u001b[A\u001b[A\u001b[A"
          ],
          "name": "stderr"
        },
        {
          "output_type": "stream",
          "text": [
            "For epoch 16\n",
            " Train loss: 1.8041571183638139\t Test loss: 3.4757746128325766\t Test accuracy: 0.14909444444444445\n"
          ],
          "name": "stdout"
        },
        {
          "output_type": "stream",
          "text": [
            "\n",
            "\n",
            "\n",
            "\n",
            "\n",
            "\n",
            "\n",
            "\n",
            "\n",
            "\n",
            "\n",
            "\n",
            " 17%|█▋        | 17/99 [01:37<07:47,  5.70s/it]\u001b[A\u001b[A\u001b[A\u001b[A\u001b[A\u001b[A\u001b[A\u001b[A\u001b[A\u001b[A\u001b[A\u001b[A"
          ],
          "name": "stderr"
        },
        {
          "output_type": "stream",
          "text": [
            "For epoch 17\n",
            " Train loss: 1.765309948270971\t Test loss: 3.538368306261428\t Test accuracy: 0.14752222222222222\n"
          ],
          "name": "stdout"
        },
        {
          "output_type": "stream",
          "text": [
            "\n",
            "\n",
            "\n",
            "\n",
            "\n",
            "\n",
            "\n",
            "\n",
            "\n",
            "\n",
            "\n",
            "\n",
            " 18%|█▊        | 18/99 [01:42<07:41,  5.70s/it]\u001b[A\u001b[A\u001b[A\u001b[A\u001b[A\u001b[A\u001b[A\u001b[A\u001b[A\u001b[A\u001b[A\u001b[A"
          ],
          "name": "stderr"
        },
        {
          "output_type": "stream",
          "text": [
            "For epoch 18\n",
            " Train loss: 1.696600125052712\t Test loss: 3.5328207472537425\t Test accuracy: 0.14956111111111112\n"
          ],
          "name": "stdout"
        },
        {
          "output_type": "display_data",
          "data": {
            "image/png": "[encoded data removed]",
            "text/plain": [
              "<Figure size 432x288 with 1 Axes>"
            ]
          },
          "metadata": {
            "tags": [],
            "needs_background": "light"
          }
        },
        {
          "output_type": "stream",
          "text": [
            "CPU times: user 1min 30s, sys: 11.6 s, total: 1min 42s\n",
            "Wall time: 1min 42s\n"
          ],
          "name": "stdout"
        }
      ]
    },
    {
      "cell_type": "code",
      "metadata": {
        "id": "ZnYUQfBqYysk",
        "outputId": "c538f355-05cc-419c-f1a1-e54aaf17d72f",
        "colab": {
          "base_uri": "https://localhost:8080/",
          "height": 900
        }
      },
      "source": [
        "!pip install torchtext==0.7.0\n",
        "from torchtext.data.metrics import bleu_score\n",
        "\n",
        "def evaluate_bleu_score(network, data_loader):\n",
        "  network.eval()\n",
        "  BLEU_score = 0\n",
        "  original_sentences = [None] * len(data_loader.dataset)\n",
        "  predicted_sentences = [None] * len(data_loader.dataset)\n",
        "  global_counter = 0\n",
        "  with torch.no_grad():\n",
        "    for i, (x, y) in enumerate(data_loader):\n",
        "      outputs = network(x, y)\n",
        "      for sentence, prediction in zip(y, outputs):\n",
        "        original_sentence[global_counter] = [fre_words[word_idx] for word_idx in sentence] \n",
        "        predicted_sentence[global_counter] = [fre_words[word_idx] for word_idx in prediction]\n",
        "      print(original_sentence, predicted_sentence)\n",
        "      break"
      ],
      "execution_count": null,
      "outputs": [
        {
          "output_type": "stream",
          "text": [
            "Collecting torchtext==0.7.0\n",
            "\u001b[?25l  Downloading https://files.pythonhosted.org/packages/b9/f9/224b3893ab11d83d47fde357a7dcc75f00ba219f34f3d15e06fe4cb62e05/torchtext-0.7.0-cp36-cp36m-manylinux1_x86_64.whl (4.5MB)\n",
            "\u001b[K     |████████████████████████████████| 4.5MB 2.8MB/s \n",
            "\u001b[?25hRequirement already satisfied: tqdm in /usr/local/lib/python3.6/dist-packages (from torchtext==0.7.0) (4.41.1)\n",
            "Requirement already satisfied: numpy in /usr/local/lib/python3.6/dist-packages (from torchtext==0.7.0) (1.18.5)\n",
            "Requirement already satisfied: sentencepiece in /usr/local/lib/python3.6/dist-packages (from torchtext==0.7.0) (0.1.91)\n",
            "Requirement already satisfied: torch in /usr/local/lib/python3.6/dist-packages (from torchtext==0.7.0) (1.6.0+cu101)\n",
            "Requirement already satisfied: requests in /usr/local/lib/python3.6/dist-packages (from torchtext==0.7.0) (2.23.0)\n",
            "Requirement already satisfied: future in /usr/local/lib/python3.6/dist-packages (from torch->torchtext==0.7.0) (0.16.0)\n",
            "Requirement already satisfied: idna<3,>=2.5 in /usr/local/lib/python3.6/dist-packages (from requests->torchtext==0.7.0) (2.10)\n",
            "Requirement already satisfied: certifi>=2017.4.17 in /usr/local/lib/python3.6/dist-packages (from requests->torchtext==0.7.0) (2020.6.20)\n",
            "Requirement already satisfied: chardet<4,>=3.0.2 in /usr/local/lib/python3.6/dist-packages (from requests->torchtext==0.7.0) (3.0.4)\n",
            "Requirement already satisfied: urllib3!=1.25.0,!=1.25.1,<1.26,>=1.21.1 in /usr/local/lib/python3.6/dist-packages (from requests->torchtext==0.7.0) (1.24.3)\n",
            "Installing collected packages: torchtext\n",
            "  Found existing installation: torchtext 0.6.0\n",
            "    Uninstalling torchtext-0.6.0:\n",
            "      Successfully uninstalled torchtext-0.6.0\n",
            "Successfully installed torchtext-0.7.0\n"
          ],
          "name": "stdout"
        },
        {
          "output_type": "display_data",
          "data": {
            "application/vnd.colab-display-data+json": {
              "pip_warning": {
                "packages": [
                  "torchtext"
                ]
              }
            }
          },
          "metadata": {
            "tags": []
          }
        },
        {
          "output_type": "error",
          "ename": "ImportError",
          "evalue": "ignored",
          "traceback": [
            "\u001b[0;31m---------------------------------------------------------------------------\u001b[0m",
            "\u001b[0;31mImportError\u001b[0m                               Traceback (most recent call last)",
            "\u001b[0;32m<ipython-input-5-6dd79cf4fbfe>\u001b[0m in \u001b[0;36m<module>\u001b[0;34m()\u001b[0m\n\u001b[1;32m      1\u001b[0m \u001b[0mget_ipython\u001b[0m\u001b[0;34m(\u001b[0m\u001b[0;34m)\u001b[0m\u001b[0;34m.\u001b[0m\u001b[0msystem\u001b[0m\u001b[0;34m(\u001b[0m\u001b[0;34m'pip install torchtext==0.7.0'\u001b[0m\u001b[0;34m)\u001b[0m\u001b[0;34m\u001b[0m\u001b[0;34m\u001b[0m\u001b[0m\n\u001b[0;32m----> 2\u001b[0;31m \u001b[0;32mfrom\u001b[0m \u001b[0mtorchtext\u001b[0m\u001b[0;34m.\u001b[0m\u001b[0mdata\u001b[0m\u001b[0;34m.\u001b[0m\u001b[0mmetrics\u001b[0m \u001b[0;32mimport\u001b[0m \u001b[0mbleu_score\u001b[0m\u001b[0;34m\u001b[0m\u001b[0;34m\u001b[0m\u001b[0m\n\u001b[0m\u001b[1;32m      3\u001b[0m \u001b[0;34m\u001b[0m\u001b[0m\n\u001b[1;32m      4\u001b[0m \u001b[0;32mdef\u001b[0m \u001b[0mevaluate_bleu_score\u001b[0m\u001b[0;34m(\u001b[0m\u001b[0mnetwork\u001b[0m\u001b[0;34m,\u001b[0m \u001b[0mdata_loader\u001b[0m\u001b[0;34m)\u001b[0m\u001b[0;34m:\u001b[0m\u001b[0;34m\u001b[0m\u001b[0;34m\u001b[0m\u001b[0m\n\u001b[1;32m      5\u001b[0m   \u001b[0mnetwork\u001b[0m\u001b[0;34m.\u001b[0m\u001b[0meval\u001b[0m\u001b[0;34m(\u001b[0m\u001b[0;34m)\u001b[0m\u001b[0;34m\u001b[0m\u001b[0;34m\u001b[0m\u001b[0m\n",
            "\u001b[0;32m/usr/local/lib/python3.6/dist-packages/torchtext/data/metrics.py\u001b[0m in \u001b[0;36m<module>\u001b[0;34m()\u001b[0m\n\u001b[1;32m      2\u001b[0m \u001b[0;32mimport\u001b[0m \u001b[0mcollections\u001b[0m\u001b[0;34m\u001b[0m\u001b[0;34m\u001b[0m\u001b[0m\n\u001b[1;32m      3\u001b[0m \u001b[0;32mimport\u001b[0m \u001b[0mtorch\u001b[0m\u001b[0;34m\u001b[0m\u001b[0;34m\u001b[0m\u001b[0m\n\u001b[0;32m----> 4\u001b[0;31m \u001b[0;32mfrom\u001b[0m \u001b[0mtorchtext\u001b[0m\u001b[0;34m.\u001b[0m\u001b[0mdata\u001b[0m\u001b[0;34m.\u001b[0m\u001b[0mutils\u001b[0m \u001b[0;32mimport\u001b[0m \u001b[0mngrams_iterator\u001b[0m\u001b[0;34m\u001b[0m\u001b[0;34m\u001b[0m\u001b[0m\n\u001b[0m\u001b[1;32m      5\u001b[0m \u001b[0;34m\u001b[0m\u001b[0m\n\u001b[1;32m      6\u001b[0m \u001b[0;34m\u001b[0m\u001b[0m\n",
            "\u001b[0;31mImportError\u001b[0m: cannot import name 'ngrams_iterator'",
            "",
            "\u001b[0;31m---------------------------------------------------------------------------\u001b[0;32m\nNOTE: If your import is failing due to a missing package, you can\nmanually install dependencies using either !pip or !apt.\n\nTo view examples of installing some common dependencies, click the\n\"Open Examples\" button below.\n\u001b[0;31m---------------------------------------------------------------------------\u001b[0m\n"
          ]
        }
      ]
    },
    {
      "cell_type": "code",
      "metadata": {
        "id": "Yy5GZYz9YfTA"
      },
      "source": [
        "evaluate_bleu_score(best_model, test_loader)"
      ],
      "execution_count": null,
      "outputs": []
    }
  ]
}