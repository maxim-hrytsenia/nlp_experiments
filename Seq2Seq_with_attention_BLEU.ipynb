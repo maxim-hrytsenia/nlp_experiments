{
  "nbformat": 4,
  "nbformat_minor": 0,
  "metadata": {
    "kernelspec": {
      "display_name": "Python 3",
      "language": "python",
      "name": "python3"
    },
    "language_info": {
      "codemirror_mode": {
        "name": "ipython",
        "version": 3
      },
      "file_extension": ".py",
      "mimetype": "text/x-python",
      "name": "python",
      "nbconvert_exporter": "python",
      "pygments_lexer": "ipython3",
      "version": "3.8.2"
    },
    "colab": {
      "name": "Copy of 4 - Packed Padded Sequences, Masking, Inference and BLEU.ipynb",
      "provenance": [],
      "collapsed_sections": [],
      "toc_visible": true
    },
    "accelerator": "GPU"
  },
  "cells": [
    {
      "cell_type": "markdown",
      "metadata": {
        "id": "dLvURswrf7cR"
      },
      "source": [
        "# Packed Padded Sequences, Masking, Inference and BLEU\n",
        "\n",
        "## Introduction\n",
        "\n",
        "In this notebook we will be adding a few improvements - packed padded sequences and masking - to the model from the previous notebook. Packed padded sequences are used to tell our RNN to skip over padding tokens in our encoder. Masking explicitly forces the model to ignore certain values, such as attention over padded elements. Both of these techniques are commonly used in NLP. \n",
        "\n",
        "We will also look at how to use our model for inference, by giving it a sentence, seeing what it translates it as and seeing where exactly it pays attention to when translating each word.\n",
        "\n",
        "Finally, we'll use the BLEU metric to measure the quality of our translations.\n",
        "\n",
        "## Preparing Data\n",
        "\n",
        "First, we'll import all the modules as before, with the addition of the `matplotlib` modules used for viewing the attention."
      ]
    },
    {
      "cell_type": "code",
      "metadata": {
        "id": "PGDAihFaf7cU"
      },
      "source": [
        "import torch\n",
        "import torch.nn as nn\n",
        "import torch.optim as optim\n",
        "import torch.nn.functional as F\n",
        "\n",
        "from torchtext.datasets import Multi30k\n",
        "from torchtext.data import Field, BucketIterator\n",
        "\n",
        "import matplotlib.pyplot as plt\n",
        "import matplotlib.ticker as ticker\n",
        "\n",
        "import spacy\n",
        "import numpy as np\n",
        "\n",
        "import random\n",
        "import math\n",
        "import time\n",
        "\n",
        "from os import path\n",
        "import unicodedata\n",
        "import re\n",
        "flatten = lambda l: [item for sublist in l for item in sublist]\n",
        "from torch.autograd import Variable\n",
        "from functools import partial"
      ],
      "execution_count": null,
      "outputs": []
    },
    {
      "cell_type": "markdown",
      "metadata": {
        "id": "JRH4gGdGf7cf"
      },
      "source": [
        "Next, we'll set the random seed for reproducability."
      ]
    },
    {
      "cell_type": "code",
      "metadata": {
        "id": "6K3No4nif7cj"
      },
      "source": [
        "SEED = 1234\n",
        "\n",
        "random.seed(SEED)\n",
        "np.random.seed(SEED)\n",
        "torch.manual_seed(SEED)\n",
        "torch.cuda.manual_seed(SEED)\n",
        "torch.backends.cudnn.deterministic = True"
      ],
      "execution_count": null,
      "outputs": []
    },
    {
      "cell_type": "markdown",
      "metadata": {
        "id": "HhzdcCqVf7cq"
      },
      "source": [
        "As before, we'll import spaCy and define the German and English tokenizers."
      ]
    },
    {
      "cell_type": "markdown",
      "metadata": {
        "id": "pFWn58GGjsiT"
      },
      "source": [
        "## Preparing French dataset"
      ]
    },
    {
      "cell_type": "code",
      "metadata": {
        "id": "kOnpwTi9phPj"
      },
      "source": [
        "USE_CUDA = torch.cuda.is_available()\n",
        "gpus = [0]\n",
        "torch.cuda.set_device(gpus[0])\n",
        "\n",
        "FloatTensor = torch.cuda.FloatTensor if USE_CUDA else torch.FloatTensor\n",
        "LongTensor = torch.cuda.LongTensor if USE_CUDA else torch.LongTensor\n",
        "ByteTensor = torch.cuda.ByteTensor if USE_CUDA else torch.ByteTensor"
      ],
      "execution_count": null,
      "outputs": []
    },
    {
      "cell_type": "code",
      "metadata": {
        "id": "V1yK04Cyjv24",
        "outputId": "f64835ce-54a5-437b-b4a0-072bc6c57f56",
        "colab": {
          "base_uri": "https://localhost:8080/",
          "height": 34
        }
      },
      "source": [
        "if not path.exists(\"data/fra.txt\"):\n",
        "    !wget -P data https://www.manythings.org/anki/fra-eng.zip\n",
        "    !unzip data/fra-eng.zip -d data\n",
        "\n",
        "with open(\"data/fra.txt\") as f:\n",
        "    sentences = f.readlines()\n",
        "\n",
        "# number of sentences\n",
        "len(sentences)"
      ],
      "execution_count": null,
      "outputs": [
        {
          "output_type": "execute_result",
          "data": {
            "text/plain": [
              "178009"
            ]
          },
          "metadata": {
            "tags": []
          },
          "execution_count": 4
        }
      ]
    },
    {
      "cell_type": "code",
      "metadata": {
        "id": "tIqMh-EkDdgP"
      },
      "source": [
        "def my_collate(batch, x_to_ix, y_to_ix):\n",
        "    sorted_batch =  sorted(batch, key=lambda b:b[0].size(1), reverse=True) # sort by len\n",
        "    x,y = list(zip(*sorted_batch))\n",
        "    max_x = max([s.size(1) for s in x])\n",
        "    max_y = max([s.size(1) for s in y])\n",
        "    x_p, y_p = [], []\n",
        "    for i in range(len(batch)):\n",
        "        if x[i].size(1) < max_x:\n",
        "            x_p.append(torch.cat([x[i], Variable(LongTensor([x_to_ix['<PAD>']] * (max_x - x[i].size(1)))).view(1, -1)], 1))\n",
        "        else:\n",
        "            x_p.append(x[i])\n",
        "        if y[i].size(1) < max_y:\n",
        "            y_p.append(torch.cat([y[i], Variable(LongTensor([y_to_ix['<PAD>']] * (max_y - y[i].size(1)))).view(1, -1)], 1))\n",
        "        else:\n",
        "            y_p.append(y[i])\n",
        "        \n",
        "    input_var = torch.cat(x_p)\n",
        "    target_var = torch.cat(y_p)\n",
        "    input_len = [list(map(lambda s: s ==0, t.data)).count(False) for t in input_var]\n",
        "    target_len = [list(map(lambda s: s ==0, t.data)).count(False) for t in target_var]\n",
        "    \n",
        "    return input_var, target_var, input_len, target_len"
      ],
      "execution_count": null,
      "outputs": []
    },
    {
      "cell_type": "code",
      "metadata": {
        "id": "rxyZE1mFnzcp"
      },
      "source": [
        "def prepare_sequence(seq, to_index):\n",
        "    idxs = list(map(lambda w: to_index[w] if to_index.get(w) is not None else to_index[\"<UNK>\"], seq))\n",
        "    return Variable(LongTensor(idxs))"
      ],
      "execution_count": null,
      "outputs": []
    },
    {
      "cell_type": "code",
      "metadata": {
        "id": "-8ZwAZ_In3OH"
      },
      "source": [
        "# Turn a Unicode string to plain ASCII, thanks to http://stackoverflow.com/a/518232/2809427\n",
        "def unicode_to_ascii(s):\n",
        "    return ''.join(\n",
        "        c for c in unicodedata.normalize('NFD', s)\n",
        "        if unicodedata.category(c) != 'Mn'\n",
        "    )\n",
        "\n",
        "# Lowercase, trim, and remove non-letter characters\n",
        "def normalize_string(s):\n",
        "    s = unicode_to_ascii(s.lower().strip())\n",
        "    s = re.sub(r\"([,.!?])\", r\" \\1 \", s)\n",
        "    s = re.sub(r\"[^a-zA-Z,.!?]+\", r\" \", s)\n",
        "    s = re.sub(r\"\\s+\", r\" \", s).strip()\n",
        "    return s"
      ],
      "execution_count": null,
      "outputs": []
    },
    {
      "cell_type": "code",
      "metadata": {
        "id": "C5qWUYz4n6Jv"
      },
      "source": [
        "MIN_LENGTH = 3\n",
        "MAX_LENGTH = 15"
      ],
      "execution_count": null,
      "outputs": []
    },
    {
      "cell_type": "code",
      "metadata": {
        "id": "AcEit2XsNCEy"
      },
      "source": [
        "sentences = sentences[:40000]"
      ],
      "execution_count": null,
      "outputs": []
    },
    {
      "cell_type": "code",
      "metadata": {
        "id": "_xDDWIy0oCNe",
        "outputId": "07e4d778-7af5-4db9-8af4-ed63c9e4f85d",
        "colab": {
          "base_uri": "https://localhost:8080/",
          "height": 86
        }
      },
      "source": [
        "%%time\n",
        "X_r, y_r = [], [] # raw\n",
        "\n",
        "for parallel in sentences:\n",
        "    so,ta = parallel[:-1].split('\\t')[0:2]\n",
        "    if so.strip() == \"\" or ta.strip() == \"\": \n",
        "        continue\n",
        "    \n",
        "    normalized_so = normalize_string(so).split()\n",
        "    normalized_ta = normalize_string(ta).split()\n",
        "    \n",
        "    if len(normalized_so) >= MIN_LENGTH and len(normalized_so) <= MAX_LENGTH \\\n",
        "    and len(normalized_ta) >= MIN_LENGTH and len(normalized_ta) <= MAX_LENGTH:\n",
        "        X_r.append(normalized_so)\n",
        "        y_r.append(normalized_ta)\n",
        "    \n",
        "\n",
        "print(len(X_r), len(y_r))\n",
        "print(X_r[0], y_r[0])"
      ],
      "execution_count": null,
      "outputs": [
        {
          "output_type": "stream",
          "text": [
            "39778 39778\n",
            "['i', 'see', '.'] ['je', 'comprends', '.']\n",
            "CPU times: user 1.01 s, sys: 15.4 ms, total: 1.02 s\n",
            "Wall time: 1.03 s\n"
          ],
          "name": "stdout"
        }
      ]
    },
    {
      "cell_type": "code",
      "metadata": {
        "id": "L6Ax51rasyTF"
      },
      "source": [
        "from sklearn.model_selection import train_test_split"
      ],
      "execution_count": null,
      "outputs": []
    },
    {
      "cell_type": "code",
      "metadata": {
        "id": "Ggm-0s3bsq9w"
      },
      "source": [
        "X_train, X_test, y_train, y_test = train_test_split(X_r, y_r, test_size=0.2, random_state=42)"
      ],
      "execution_count": null,
      "outputs": []
    },
    {
      "cell_type": "code",
      "metadata": {
        "id": "4NBsAsMSojh5",
        "outputId": "e575760b-4793-4ee0-d1c9-e65959cd6251",
        "colab": {
          "base_uri": "https://localhost:8080/",
          "height": 34
        }
      },
      "source": [
        "source_vocab = list(set(flatten(X_train)))\n",
        "target_vocab = list(set(flatten(y_train)))\n",
        "print(len(source_vocab), len(target_vocab))"
      ],
      "execution_count": null,
      "outputs": [
        {
          "output_type": "stream",
          "text": [
            "4802 8069\n"
          ],
          "name": "stdout"
        }
      ]
    },
    {
      "cell_type": "code",
      "metadata": {
        "id": "9qieYmGJo2oy"
      },
      "source": [
        "source2index = {'<PAD>': 0, '<UNK>': 1, '<SOS>': 2, '<EOS>': 3}\n",
        "for vo in source_vocab:\n",
        "    if source2index.get(vo) is None:\n",
        "        source2index[vo] = len(source2index)\n",
        "index2source = {v:k for k, v in source2index.items()}\n",
        "\n",
        "target2index = {'<PAD>': 0, '<UNK>': 1, '<SOS>': 2, '<EOS>': 3}\n",
        "for vo in target_vocab:\n",
        "    if target2index.get(vo) is None:\n",
        "        target2index[vo] = len(target2index)\n",
        "index2target = {v:k for k, v in target2index.items()}"
      ],
      "execution_count": null,
      "outputs": []
    },
    {
      "cell_type": "code",
      "metadata": {
        "id": "kjVrAE--tXWG"
      },
      "source": [
        "def get_prepared_dataset(X, y):\n",
        "  X_proc, y_proc = [], []\n",
        "  for so, ta in zip(X, y):\n",
        "    X_proc.append(prepare_sequence(so + ['<EOS>'], source2index).view(1, -1))\n",
        "    y_proc.append(prepare_sequence(ta + ['<EOS>'], target2index).view(1, -1))\n",
        "  return X_proc, y_proc"
      ],
      "execution_count": null,
      "outputs": []
    },
    {
      "cell_type": "code",
      "metadata": {
        "id": "Zifz2x8hpD9U",
        "outputId": "7b26c2e3-7c75-4353-b95a-678114518049",
        "colab": {
          "base_uri": "https://localhost:8080/",
          "height": 52
        }
      },
      "source": [
        "%%time\n",
        "X_train_proc, y_train_proc = get_prepared_dataset(X_train, y_train) \n",
        "X_test_proc, y_test_proc = get_prepared_dataset(X_test, y_test)\n",
        "train_data = list(zip(X_train_proc, y_train_proc))\n",
        "test_data = list(zip(X_test_proc, y_test_proc))"
      ],
      "execution_count": null,
      "outputs": [
        {
          "output_type": "stream",
          "text": [
            "CPU times: user 4.78 s, sys: 1.39 s, total: 6.17 s\n",
            "Wall time: 6.19 s\n"
          ],
          "name": "stdout"
        }
      ]
    },
    {
      "cell_type": "code",
      "metadata": {
        "id": "cnX9T6aQqOJC"
      },
      "source": [
        "class MTDataset(torch.utils.data.Dataset):\n",
        "    def __init__(self, X, y):\n",
        "    # import and initialize dataset    \n",
        "        self.source = X\n",
        "        self.output = y \n",
        "    \n",
        "    def __getitem__(self, idx):\n",
        "    # get item by index\n",
        "        return self.source[idx], self.output[idx]\n",
        "  \n",
        "    def __len__(self):\n",
        "    # returns length of data\n",
        "        return len(self.source)"
      ],
      "execution_count": null,
      "outputs": []
    },
    {
      "cell_type": "code",
      "metadata": {
        "id": "6CzAtLa2vTDR"
      },
      "source": [
        "BATCH_SIZE = 256"
      ],
      "execution_count": null,
      "outputs": []
    },
    {
      "cell_type": "code",
      "metadata": {
        "id": "F7QkyYoCsKML"
      },
      "source": [
        "train_dataset = MTDataset(X_train_proc, y_train_proc)\n",
        "test_dataset = MTDataset(X_test_proc, y_test_proc)\n",
        "train_loader = torch.utils.data.DataLoader(train_dataset, batch_size = BATCH_SIZE, shuffle=True, \n",
        "                                           collate_fn=partial(my_collate, x_to_ix=source2index, y_to_ix=target2index))\n",
        "test_loader = torch.utils.data.DataLoader(test_dataset, batch_size = BATCH_SIZE, shuffle=True, \n",
        "                                          collate_fn=partial(my_collate, x_to_ix=source2index, y_to_ix=target2index))"
      ],
      "execution_count": null,
      "outputs": []
    },
    {
      "cell_type": "markdown",
      "metadata": {
        "id": "9MtZBQHNf7dV"
      },
      "source": [
        "## Building the Model\n",
        "\n",
        "### Encoder\n",
        "\n",
        "Next up, we define the encoder.\n",
        "\n",
        "The changes here all within the `forward` method. It now accepts the lengths of the source sentences as well as the sentences themselves. \n",
        "\n",
        "After the source sentence (padded automatically within the iterator) has been embedded, we can then use `pack_padded_sequence` on it with the lengths of the sentences. `packed_embedded` will then be our packed padded sequence. This can be then fed to our RNN as normal which will return `packed_outputs`, a packed tensor containing all of the hidden states from the sequence, and `hidden` which is simply the final hidden state from our sequence. `hidden` is a standard tensor and not packed in any way, the only difference is that as the input was a packed sequence, this tensor is from the final **non-padded element** in the sequence.\n",
        "\n",
        "We then unpack our `packed_outputs` using `pad_packed_sequence` which returns the `outputs` and the lengths of each, which we don't need. \n",
        "\n",
        "The first dimension of `outputs` is the padded sequence lengths however due to using a packed padded sequence the values of tensors when a padding token was the input will be all zeros."
      ]
    },
    {
      "cell_type": "code",
      "metadata": {
        "id": "B11MVX11f7dW"
      },
      "source": [
        "class Encoder(nn.Module):\n",
        "    def __init__(self, input_dim, emb_dim, enc_hid_dim, dec_hid_dim, dropout):\n",
        "        super().__init__()\n",
        "        \n",
        "        self.embedding = nn.Embedding(input_dim, emb_dim)\n",
        "        \n",
        "        self.rnn = nn.GRU(emb_dim, enc_hid_dim, bidirectional = True)\n",
        "        \n",
        "        self.fc = nn.Linear(enc_hid_dim * 2, dec_hid_dim)\n",
        "        \n",
        "        self.dropout = nn.Dropout(dropout)\n",
        "        \n",
        "    def forward(self, src, src_len):\n",
        "        \n",
        "        #src = [src len, batch size]\n",
        "        #src_len = [batch size]\n",
        "        \n",
        "        embedded = self.dropout(self.embedding(src))\n",
        "        \n",
        "        #embedded = [src len, batch size, emb dim]     \n",
        "        packed_embedded = nn.utils.rnn.pack_padded_sequence(embedded, src_len) \n",
        "        packed_outputs, hidden = self.rnn(packed_embedded)\n",
        "                                 \n",
        "        #packed_outputs is a packed sequence containing all hidden states\n",
        "        #hidden is now from the final non-padded element in the batch\n",
        "            \n",
        "        outputs, _ = nn.utils.rnn.pad_packed_sequence(packed_outputs) \n",
        "            \n",
        "        #outputs is now a non-packed sequence, all hidden states obtained\n",
        "        #  when the input is a pad token are all zeros\n",
        "            \n",
        "        #outputs = [src len, batch size, hid dim * num directions]\n",
        "        #hidden = [n layers * num directions, batch size, hid dim]\n",
        "        \n",
        "        #hidden is stacked [forward_1, backward_1, forward_2, backward_2, ...]\n",
        "        #outputs are always from the last layer\n",
        "        \n",
        "        #hidden [-2, :, : ] is the last of the forwards RNN \n",
        "        #hidden [-1, :, : ] is the last of the backwards RNN\n",
        "        \n",
        "        #initial decoder hidden is final hidden state of the forwards and backwards \n",
        "        #  encoder RNNs fed through a linear layer\n",
        "        hidden = torch.tanh(self.fc(torch.cat((hidden[-2,:,:], hidden[-1,:,:]), dim = 1)))\n",
        "        \n",
        "        #outputs = [src len, batch size, enc hid dim * 2]\n",
        "        #hidden = [batch size, dec hid dim]\n",
        "        \n",
        "        return outputs, hidden"
      ],
      "execution_count": null,
      "outputs": []
    },
    {
      "cell_type": "markdown",
      "metadata": {
        "id": "1ZNQsK_vf7db"
      },
      "source": [
        "### Attention\n",
        "\n",
        "The attention module is where we calculate the attention values over the source sentence. \n",
        "\n",
        "Previously, we allowed this module to \"pay attention\" to padding tokens within the source sentence. However, using *masking*, we can force the attention to only be over non-padding elements.\n",
        "\n",
        "The `forward` method now takes a `mask` input. This is a **[batch size, source sentence length]** tensor that is 1 when the source sentence token is not a padding token, and 0 when it is a padding token. For example, if the source sentence is: [\"hello\", \"how\", \"are\", \"you\", \"?\", `<pad>`, `<pad>`], then the mask would be [1, 1, 1, 1, 1, 0, 0].\n",
        "\n",
        "We apply the mask after the attention has been calculated, but before it has been normalized by the `softmax` function. It is applied using `masked_fill`. This fills the tensor at each element where the first argument (`mask == 0`) is true, with the value given by the second argument (`-1e10`). In other words, it will take the un-normalized attention values, and change the attention values over padded elements to be `-1e10`. As these numbers will be miniscule compared to the other values they will become zero when passed through the `softmax` layer, ensuring no attention is payed to padding tokens in the source sentence."
      ]
    },
    {
      "cell_type": "code",
      "metadata": {
        "id": "EhiRtNt3f7dc"
      },
      "source": [
        "class Attention(nn.Module):\n",
        "    def __init__(self, enc_hid_dim, dec_hid_dim):\n",
        "        super().__init__()\n",
        "        \n",
        "        self.attn = nn.Linear((enc_hid_dim * 2) + dec_hid_dim, dec_hid_dim)\n",
        "        self.v = nn.Linear(dec_hid_dim, 1, bias = False)\n",
        "        \n",
        "    def forward(self, hidden, encoder_outputs, mask):\n",
        "        \n",
        "        #hidden = [batch size, dec hid dim]\n",
        "        #encoder_outputs = [src len, batch size, enc hid dim * 2]\n",
        "        \n",
        "        batch_size = encoder_outputs.shape[1]\n",
        "        src_len = encoder_outputs.shape[0]\n",
        "        \n",
        "        #repeat decoder hidden state src_len times\n",
        "        hidden = hidden.unsqueeze(1).repeat(1, src_len, 1)\n",
        "  \n",
        "        encoder_outputs = encoder_outputs.permute(1, 0, 2)\n",
        "        \n",
        "        #hidden = [batch size, src len, dec hid dim]\n",
        "        #encoder_outputs = [batch size, src len, enc hid dim * 2]\n",
        "        \n",
        "        energy = torch.tanh(self.attn(torch.cat((hidden, encoder_outputs), dim = 2))) \n",
        "        \n",
        "        #energy = [batch size, src len, dec hid dim]\n",
        "\n",
        "        attention = self.v(energy).squeeze(2)\n",
        "        \n",
        "        #attention = [batch size, src len]\n",
        "        \n",
        "        attention = attention.masked_fill(mask == 0, -1e10)\n",
        "        \n",
        "        return F.softmax(attention, dim = 1)"
      ],
      "execution_count": null,
      "outputs": []
    },
    {
      "cell_type": "markdown",
      "metadata": {
        "id": "rYOJ7KUaf7dh"
      },
      "source": [
        "### Decoder\n",
        "\n",
        "The decoder only needs a few small changes. It needs to accept a mask over the source sentence and pass this to the attention module. As we want to view the values of attention during inference, we also return the attention tensor."
      ]
    },
    {
      "cell_type": "code",
      "metadata": {
        "id": "y9rPPUA7f7di"
      },
      "source": [
        "class Decoder(nn.Module):\n",
        "    def __init__(self, output_dim, emb_dim, enc_hid_dim, dec_hid_dim, dropout, attention):\n",
        "        super().__init__()\n",
        "\n",
        "        self.output_dim = output_dim\n",
        "        self.attention = attention\n",
        "        \n",
        "        self.embedding = nn.Embedding(output_dim, emb_dim)\n",
        "        \n",
        "        self.rnn = nn.GRU((enc_hid_dim * 2) + emb_dim, dec_hid_dim)\n",
        "        \n",
        "        self.fc_out = nn.Linear((enc_hid_dim * 2) + dec_hid_dim + emb_dim, output_dim)\n",
        "        \n",
        "        self.dropout = nn.Dropout(dropout)\n",
        "        \n",
        "    def forward(self, input, hidden, encoder_outputs, mask):\n",
        "             \n",
        "        #input = [batch size]\n",
        "        #hidden = [batch size, dec hid dim]\n",
        "        #encoder_outputs = [src len, batch size, enc hid dim * 2]\n",
        "        #mask = [batch size, src len]\n",
        "        \n",
        "        input = input.unsqueeze(0)\n",
        "        \n",
        "        #input = [1, batch size]\n",
        "        \n",
        "        embedded = self.dropout(self.embedding(input))\n",
        "        \n",
        "        #embedded = [1, batch size, emb dim]\n",
        "        \n",
        "        a = self.attention(hidden, encoder_outputs, mask)\n",
        "                \n",
        "        #a = [batch size, src len]\n",
        "        \n",
        "        a = a.unsqueeze(1)\n",
        "        \n",
        "        #a = [batch size, 1, src len]\n",
        "        \n",
        "        encoder_outputs = encoder_outputs.permute(1, 0, 2)\n",
        "        \n",
        "        #encoder_outputs = [batch size, src len, enc hid dim * 2]\n",
        "        \n",
        "        weighted = torch.bmm(a, encoder_outputs)\n",
        "        \n",
        "        #weighted = [batch size, 1, enc hid dim * 2]\n",
        "        \n",
        "        weighted = weighted.permute(1, 0, 2)\n",
        "        \n",
        "        #weighted = [1, batch size, enc hid dim * 2]\n",
        "        \n",
        "        rnn_input = torch.cat((embedded, weighted), dim = 2)\n",
        "        \n",
        "        #rnn_input = [1, batch size, (enc hid dim * 2) + emb dim]\n",
        "            \n",
        "        output, hidden = self.rnn(rnn_input, hidden.unsqueeze(0))\n",
        "        \n",
        "        #output = [seq len, batch size, dec hid dim * n directions]\n",
        "        #hidden = [n layers * n directions, batch size, dec hid dim]\n",
        "        \n",
        "        #seq len, n layers and n directions will always be 1 in this decoder, therefore:\n",
        "        #output = [1, batch size, dec hid dim]\n",
        "        #hidden = [1, batch size, dec hid dim]\n",
        "        #this also means that output == hidden\n",
        "        assert (output == hidden).all()\n",
        "        \n",
        "        embedded = embedded.squeeze(0)\n",
        "        output = output.squeeze(0)\n",
        "        weighted = weighted.squeeze(0)\n",
        "        \n",
        "        prediction = self.fc_out(torch.cat((output, weighted, embedded), dim = 1))\n",
        "        \n",
        "        #prediction = [batch size, output dim]\n",
        "        \n",
        "        return prediction, hidden.squeeze(0), a.squeeze(1)"
      ],
      "execution_count": null,
      "outputs": []
    },
    {
      "cell_type": "markdown",
      "metadata": {
        "id": "mPrxVWW_f7dp"
      },
      "source": [
        "### Seq2Seq\n",
        "\n",
        "The overarching seq2seq model also needs a few changes for packed padded sequences, masking and inference. \n",
        "\n",
        "We need to tell it what the indexes are for the pad token and also pass the source sentence lengths as input to the `forward` method.\n",
        "\n",
        "We use the pad token index to create the masks, by creating a mask tensor that is 1 wherever the source sentence is not equal to the pad token. This is all done within the `create_mask` function.\n",
        "\n",
        "The sequence lengths as needed to pass to the encoder to use packed padded sequences.\n",
        "\n",
        "The attention at each time-step is stored in the `attentions` "
      ]
    },
    {
      "cell_type": "code",
      "metadata": {
        "id": "4sByl6NBf7dq"
      },
      "source": [
        "class Seq2Seq(nn.Module):\n",
        "    def __init__(self, encoder, decoder, src_pad_idx, device):\n",
        "        super().__init__()\n",
        "        \n",
        "        self.encoder = encoder\n",
        "        self.decoder = decoder\n",
        "        self.src_pad_idx = src_pad_idx\n",
        "        self.device = device\n",
        "        \n",
        "    def create_mask(self, src):\n",
        "        mask = (src != self.src_pad_idx).permute(1, 0)\n",
        "        return mask\n",
        "        \n",
        "    def forward(self, src, src_len, trg, teacher_forcing_ratio = 0.5):\n",
        "        \n",
        "        #src = [src len, batch size]\n",
        "        #src_len = [batch size]\n",
        "        #trg = [trg len, batch size]\n",
        "        #teacher_forcing_ratio is probability to use teacher forcing\n",
        "        #e.g. if teacher_forcing_ratio is 0.75 we use teacher forcing 75% of the time\n",
        "                    \n",
        "        batch_size = src.shape[1]\n",
        "        trg_len = trg.shape[0]\n",
        "        trg_vocab_size = self.decoder.output_dim\n",
        "        \n",
        "        #tensor to store decoder outputs\n",
        "        outputs = torch.zeros(trg_len, batch_size, trg_vocab_size).to(self.device)\n",
        "        \n",
        "        #encoder_outputs is all hidden states of the input sequence, back and forwards\n",
        "        #hidden is the final forward and backward hidden states, passed through a linear layer\n",
        "        encoder_outputs, hidden = self.encoder(src, src_len)\n",
        "                \n",
        "        #first input to the decoder is the <sos> tokens\n",
        "        input = trg[0,:]\n",
        "        \n",
        "        mask = self.create_mask(src)\n",
        "\n",
        "        #mask = [batch size, src len]\n",
        "                \n",
        "        for t in range(1, trg_len):\n",
        "            \n",
        "            #insert input token embedding, previous hidden state, all encoder hidden states \n",
        "            #  and mask\n",
        "            #receive output tensor (predictions) and new hidden state\n",
        "            output, hidden, _ = self.decoder(input, hidden, encoder_outputs, mask)\n",
        "            \n",
        "            #place predictions in a tensor holding predictions for each token\n",
        "            outputs[t] = output\n",
        "            \n",
        "            #decide if we are going to use teacher forcing or not\n",
        "            teacher_force = random.random() < teacher_forcing_ratio\n",
        "            \n",
        "            #get the highest predicted token from our predictions\n",
        "            top1 = output.argmax(1) \n",
        "            \n",
        "            #if teacher forcing, use actual next token as next input\n",
        "            #if not, use predicted token\n",
        "            input = trg[t] if teacher_force else top1\n",
        "            \n",
        "        return outputs"
      ],
      "execution_count": null,
      "outputs": []
    },
    {
      "cell_type": "markdown",
      "metadata": {
        "id": "QH2ApHTyf7du"
      },
      "source": [
        "## Training the Seq2Seq Model\n",
        "\n",
        "Next up, initializing the model and placing it on the GPU."
      ]
    },
    {
      "cell_type": "code",
      "metadata": {
        "id": "B9hrzmEsf7dv"
      },
      "source": [
        "INPUT_DIM = len(source2index)\n",
        "OUTPUT_DIM = len(target2index)\n",
        "ENC_EMB_DIM = 256\n",
        "DEC_EMB_DIM = 256\n",
        "ENC_HID_DIM = 512\n",
        "DEC_HID_DIM = 512\n",
        "ENC_DROPOUT = 0.5\n",
        "DEC_DROPOUT = 0.5\n",
        "SRC_PAD_IDX = source2index[\"<PAD>\"]\n",
        "device = torch.device('cuda' if torch.cuda.is_available() else 'cpu')\n",
        "\n",
        "attn = Attention(ENC_HID_DIM, DEC_HID_DIM)\n",
        "enc = Encoder(INPUT_DIM, ENC_EMB_DIM, ENC_HID_DIM, DEC_HID_DIM, ENC_DROPOUT)\n",
        "dec = Decoder(OUTPUT_DIM, DEC_EMB_DIM, ENC_HID_DIM, DEC_HID_DIM, DEC_DROPOUT, attn)\n",
        "\n",
        "model = Seq2Seq(enc, dec, SRC_PAD_IDX, device).to(device)"
      ],
      "execution_count": null,
      "outputs": []
    },
    {
      "cell_type": "markdown",
      "metadata": {
        "id": "-VTB-Zdef7d0"
      },
      "source": [
        "Then, we initialize the model parameters."
      ]
    },
    {
      "cell_type": "code",
      "metadata": {
        "id": "u-XpIRV7f7d0",
        "outputId": "7ba2c0ad-0720-451e-e82a-b136544eb2e4",
        "colab": {
          "base_uri": "https://localhost:8080/",
          "height": 330
        }
      },
      "source": [
        "def init_weights(m):\n",
        "    for name, param in m.named_parameters():\n",
        "        if 'weight' in name:\n",
        "            nn.init.normal_(param.data, mean=0, std=0.01)\n",
        "        else:\n",
        "            nn.init.constant_(param.data, 0)\n",
        "            \n",
        "model.apply(init_weights)"
      ],
      "execution_count": null,
      "outputs": [
        {
          "output_type": "execute_result",
          "data": {
            "text/plain": [
              "Seq2Seq(\n",
              "  (encoder): Encoder(\n",
              "    (embedding): Embedding(4806, 256)\n",
              "    (rnn): GRU(256, 512, bidirectional=True)\n",
              "    (fc): Linear(in_features=1024, out_features=512, bias=True)\n",
              "    (dropout): Dropout(p=0.5, inplace=False)\n",
              "  )\n",
              "  (decoder): Decoder(\n",
              "    (attention): Attention(\n",
              "      (attn): Linear(in_features=1536, out_features=512, bias=True)\n",
              "      (v): Linear(in_features=512, out_features=1, bias=False)\n",
              "    )\n",
              "    (embedding): Embedding(8073, 256)\n",
              "    (rnn): GRU(1280, 512)\n",
              "    (fc_out): Linear(in_features=1792, out_features=8073, bias=True)\n",
              "    (dropout): Dropout(p=0.5, inplace=False)\n",
              "  )\n",
              ")"
            ]
          },
          "metadata": {
            "tags": []
          },
          "execution_count": 25
        }
      ]
    },
    {
      "cell_type": "markdown",
      "metadata": {
        "id": "17deh7yDf7d6"
      },
      "source": [
        "We'll print out the number of trainable parameters in the model, noticing that it has the exact same amount of parameters as the model without these improvements."
      ]
    },
    {
      "cell_type": "code",
      "metadata": {
        "id": "EkGwSVsrf7d7",
        "outputId": "bd776072-f014-4e6e-ae48-1eb272567604",
        "colab": {
          "base_uri": "https://localhost:8080/",
          "height": 34
        }
      },
      "source": [
        "def count_parameters(model):\n",
        "    return sum(p.numel() for p in model.parameters() if p.requires_grad)\n",
        "\n",
        "print(f'The model has {count_parameters(model):,} trainable parameters')"
      ],
      "execution_count": null,
      "outputs": [
        {
          "output_type": "stream",
          "text": [
            "The model has 24,205,193 trainable parameters\n"
          ],
          "name": "stdout"
        }
      ]
    },
    {
      "cell_type": "markdown",
      "metadata": {
        "id": "ZFbZHpVHf7eA"
      },
      "source": [
        "Then we define our optimizer and criterion. \n",
        "\n",
        "The `ignore_index` for the criterion needs to be the index of the pad token for the target language, not the source language."
      ]
    },
    {
      "cell_type": "code",
      "metadata": {
        "id": "CUnR8nLCf7eA"
      },
      "source": [
        "optimizer = optim.Adam(model.parameters())"
      ],
      "execution_count": null,
      "outputs": []
    },
    {
      "cell_type": "code",
      "metadata": {
        "id": "AeD_MHRRf7eF"
      },
      "source": [
        "TRG_PAD_IDX = target2index[\"<PAD>\"]\n",
        "\n",
        "criterion = nn.CrossEntropyLoss(ignore_index = TRG_PAD_IDX)"
      ],
      "execution_count": null,
      "outputs": []
    },
    {
      "cell_type": "markdown",
      "metadata": {
        "id": "VHZBw1jTf7eJ"
      },
      "source": [
        "Next, we'll define our training and evaluation loops.\n",
        "\n",
        "As we are using `include_lengths = True` for our source field, `batch.src` is now a tuple with the first element being the numericalized tensor representing the sentence and the second element being the lengths of each sentence within the batch.\n",
        "\n",
        "Our model also returns the attention vectors over the batch of source source sentences for each decoding time-step. We won't use these during the training/evaluation, but we will later for inference."
      ]
    },
    {
      "cell_type": "code",
      "metadata": {
        "id": "2mr93Qwsf7eK"
      },
      "source": [
        "from tqdm import tqdm\n",
        "\n",
        "def train(model, iterator, optimizer, criterion, clip):\n",
        "    \n",
        "    model.train()\n",
        "    \n",
        "    epoch_loss = 0\n",
        "    \n",
        "    for i, batch in tqdm(enumerate(iterator)):\n",
        "        \n",
        "        src, src_len = batch[0], batch[2]\n",
        "        src = src.permute(1, 0)\n",
        "        trg = batch[1]\n",
        "        trg = trg.permute(1, 0)\n",
        "        optimizer.zero_grad()\n",
        "        \n",
        "        output = model(src, src_len, trg)\n",
        "        \n",
        "        #trg = [trg len, batch size]\n",
        "        #output = [trg len, batch size, output dim]\n",
        "        \n",
        "        output_dim = output.shape[-1]\n",
        "        output = output[1:].view(-1, output_dim)\n",
        "        trg = trg[1:].flatten()\n",
        "        #trg = [(trg len - 1) * batch size]\n",
        "        #output = [(trg len - 1) * batch size, output dim]\n",
        "        \n",
        "        loss = criterion(output, trg)\n",
        "        \n",
        "        loss.backward()\n",
        "        \n",
        "        torch.nn.utils.clip_grad_norm_(model.parameters(), clip)\n",
        "        \n",
        "        optimizer.step()\n",
        "        \n",
        "        epoch_loss += loss.item()\n",
        "        \n",
        "    return epoch_loss / len(iterator)"
      ],
      "execution_count": null,
      "outputs": []
    },
    {
      "cell_type": "code",
      "metadata": {
        "id": "6upblhb5f7eO"
      },
      "source": [
        "def evaluate(model, iterator, criterion):\n",
        "    \n",
        "    model.eval()\n",
        "    \n",
        "    epoch_loss = 0\n",
        "    \n",
        "    with torch.no_grad():\n",
        "    \n",
        "        for i, batch in enumerate(iterator):\n",
        "\n",
        "            src, src_len = batch[0], batch[2]\n",
        "            src = src.permute(1, 0)\n",
        "            trg = batch[1]\n",
        "            trg = trg.permute(1, 0)\n",
        "            output = model(src, src_len, trg, 0) #turn off teacher forcing\n",
        "            \n",
        "            #trg = [trg len, batch size]\n",
        "            #output = [trg len, batch size, output dim]\n",
        "\n",
        "            output_dim = output.shape[-1]\n",
        "            \n",
        "            output = output[1:].view(-1, output_dim)\n",
        "            trg = trg[1:].flatten()\n",
        "\n",
        "            #trg = [(trg len - 1) * batch size]\n",
        "            #output = [(trg len - 1) * batch size, output dim]\n",
        "\n",
        "            loss = criterion(output, trg)\n",
        "\n",
        "            epoch_loss += loss.item()\n",
        "        \n",
        "    return epoch_loss / len(iterator)"
      ],
      "execution_count": null,
      "outputs": []
    },
    {
      "cell_type": "markdown",
      "metadata": {
        "id": "Jtf825L9f7eS"
      },
      "source": [
        "Then, we'll define a useful function for timing how long epochs take."
      ]
    },
    {
      "cell_type": "code",
      "metadata": {
        "id": "RGPIt5_Gf7eT"
      },
      "source": [
        "def epoch_time(start_time, end_time):\n",
        "    elapsed_time = end_time - start_time\n",
        "    elapsed_mins = int(elapsed_time / 60)\n",
        "    elapsed_secs = int(elapsed_time - (elapsed_mins * 60))\n",
        "    return elapsed_mins, elapsed_secs"
      ],
      "execution_count": null,
      "outputs": []
    },
    {
      "cell_type": "markdown",
      "metadata": {
        "id": "dPAU00L7f7eX"
      },
      "source": [
        "The penultimate step is to train our model. Notice how it takes almost half the time as our model without the improvements added in this notebook."
      ]
    },
    {
      "cell_type": "code",
      "metadata": {
        "id": "ZffrSNfQf7eX",
        "outputId": "481b99a2-4b65-497b-91ac-27b1dbbfe4e3",
        "colab": {
          "base_uri": "https://localhost:8080/",
          "height": 712
        }
      },
      "source": [
        "N_EPOCHS = 10\n",
        "CLIP = 1\n",
        "\n",
        "best_valid_loss = float('inf')\n",
        "\n",
        "for epoch in range(N_EPOCHS):\n",
        "    \n",
        "    start_time = time.time()\n",
        "    \n",
        "    train_loss = train(model, train_loader, optimizer, criterion, CLIP)\n",
        "    valid_loss = evaluate(model, test_loader, criterion)\n",
        "    \n",
        "    end_time = time.time()\n",
        "    \n",
        "    epoch_mins, epoch_secs = epoch_time(start_time, end_time)\n",
        "    \n",
        "    if valid_loss < best_valid_loss:\n",
        "        best_valid_loss = valid_loss\n",
        "        torch.save(model.state_dict(), 'tut4-model.pt')\n",
        "    \n",
        "    print(f'Epoch: {epoch+1:02} | Time: {epoch_mins}m {epoch_secs}s')\n",
        "    print(f'\\tTrain Loss: {train_loss:.3f} | Train PPL: {math.exp(train_loss):7.3f}')\n",
        "    print(f'\\t Val. Loss: {valid_loss:.3f} |  Val. PPL: {math.exp(valid_loss):7.3f}')"
      ],
      "execution_count": null,
      "outputs": [
        {
          "output_type": "stream",
          "text": [
            "125it [00:55,  2.24it/s]\n",
            "0it [00:00, ?it/s]"
          ],
          "name": "stderr"
        },
        {
          "output_type": "stream",
          "text": [
            "Epoch: 01 | Time: 1m 7s\n",
            "\tTrain Loss: 5.065 | Train PPL: 158.429\n",
            "\t Val. Loss: 4.470 |  Val. PPL:  87.321\n"
          ],
          "name": "stdout"
        },
        {
          "output_type": "stream",
          "text": [
            "125it [00:56,  2.20it/s]\n",
            "0it [00:00, ?it/s]"
          ],
          "name": "stderr"
        },
        {
          "output_type": "stream",
          "text": [
            "Epoch: 02 | Time: 1m 8s\n",
            "\tTrain Loss: 3.875 | Train PPL:  48.181\n",
            "\t Val. Loss: 3.992 |  Val. PPL:  54.149\n"
          ],
          "name": "stdout"
        },
        {
          "output_type": "stream",
          "text": [
            "125it [00:56,  2.20it/s]\n",
            "0it [00:00, ?it/s]"
          ],
          "name": "stderr"
        },
        {
          "output_type": "stream",
          "text": [
            "Epoch: 03 | Time: 1m 8s\n",
            "\tTrain Loss: 3.270 | Train PPL:  26.316\n",
            "\t Val. Loss: 3.559 |  Val. PPL:  35.141\n"
          ],
          "name": "stdout"
        },
        {
          "output_type": "stream",
          "text": [
            "125it [00:56,  2.21it/s]\n",
            "0it [00:00, ?it/s]"
          ],
          "name": "stderr"
        },
        {
          "output_type": "stream",
          "text": [
            "Epoch: 04 | Time: 1m 7s\n",
            "\tTrain Loss: 2.717 | Train PPL:  15.136\n",
            "\t Val. Loss: 3.244 |  Val. PPL:  25.626\n"
          ],
          "name": "stdout"
        },
        {
          "output_type": "stream",
          "text": [
            "125it [00:56,  2.22it/s]\n",
            "0it [00:00, ?it/s]"
          ],
          "name": "stderr"
        },
        {
          "output_type": "stream",
          "text": [
            "Epoch: 05 | Time: 1m 7s\n",
            "\tTrain Loss: 2.291 | Train PPL:   9.888\n",
            "\t Val. Loss: 2.962 |  Val. PPL:  19.343\n"
          ],
          "name": "stdout"
        },
        {
          "output_type": "stream",
          "text": [
            "125it [00:56,  2.22it/s]\n",
            "0it [00:00, ?it/s]"
          ],
          "name": "stderr"
        },
        {
          "output_type": "stream",
          "text": [
            "Epoch: 06 | Time: 1m 7s\n",
            "\tTrain Loss: 1.899 | Train PPL:   6.680\n",
            "\t Val. Loss: 2.868 |  Val. PPL:  17.603\n"
          ],
          "name": "stdout"
        },
        {
          "output_type": "stream",
          "text": [
            "125it [00:56,  2.22it/s]\n",
            "0it [00:00, ?it/s]"
          ],
          "name": "stderr"
        },
        {
          "output_type": "stream",
          "text": [
            "Epoch: 07 | Time: 1m 7s\n",
            "\tTrain Loss: 1.599 | Train PPL:   4.946\n",
            "\t Val. Loss: 2.684 |  Val. PPL:  14.646\n"
          ],
          "name": "stdout"
        },
        {
          "output_type": "stream",
          "text": [
            "125it [00:56,  2.21it/s]\n",
            "0it [00:00, ?it/s]"
          ],
          "name": "stderr"
        },
        {
          "output_type": "stream",
          "text": [
            "Epoch: 08 | Time: 1m 7s\n",
            "\tTrain Loss: 1.381 | Train PPL:   3.978\n",
            "\t Val. Loss: 2.628 |  Val. PPL:  13.853\n"
          ],
          "name": "stdout"
        },
        {
          "output_type": "stream",
          "text": [
            "125it [00:56,  2.20it/s]\n",
            "0it [00:00, ?it/s]"
          ],
          "name": "stderr"
        },
        {
          "output_type": "stream",
          "text": [
            "Epoch: 09 | Time: 1m 8s\n",
            "\tTrain Loss: 1.156 | Train PPL:   3.177\n",
            "\t Val. Loss: 2.624 |  Val. PPL:  13.795\n"
          ],
          "name": "stdout"
        },
        {
          "output_type": "stream",
          "text": [
            "125it [00:56,  2.20it/s]\n"
          ],
          "name": "stderr"
        },
        {
          "output_type": "stream",
          "text": [
            "Epoch: 10 | Time: 1m 8s\n",
            "\tTrain Loss: 1.021 | Train PPL:   2.776\n",
            "\t Val. Loss: 2.595 |  Val. PPL:  13.395\n"
          ],
          "name": "stdout"
        }
      ]
    },
    {
      "cell_type": "markdown",
      "metadata": {
        "id": "pAMrBLyWf7ee"
      },
      "source": [
        "Finally, we load the parameters from our best validation loss and get our results on the test set.\n",
        "\n",
        "We get the improved test perplexity whilst almost being twice as fast!"
      ]
    },
    {
      "cell_type": "code",
      "metadata": {
        "id": "wIbA8Ij_f7ee",
        "outputId": "2177175b-e281-4380-8a59-0b977d1859a1",
        "colab": {
          "base_uri": "https://localhost:8080/",
          "height": 34
        }
      },
      "source": [
        "model.load_state_dict(torch.load('tut4-model.pt'))\n",
        "\n",
        "test_loss = evaluate(model, test_loader, criterion)\n",
        "\n",
        "print(f'| Test Loss: {test_loss:.3f} | Test PPL: {math.exp(test_loss):7.3f} |')"
      ],
      "execution_count": null,
      "outputs": [
        {
          "output_type": "stream",
          "text": [
            "| Test Loss: 2.570 | Test PPL:  13.071 |\n"
          ],
          "name": "stdout"
        }
      ]
    },
    {
      "cell_type": "markdown",
      "metadata": {
        "id": "GU2tseu7f7ej"
      },
      "source": [
        "## Inference\n",
        "\n",
        "Now we can use our trained model to generate translations.\n",
        "\n",
        "**Note:** these translations will be poor compared to examples shown in paper as they use hidden dimension sizes of 1000 and train for 4 days! They have been cherry picked in order to show off what attention should look like on a sufficiently sized model.\n",
        "\n",
        "Our `translate_sentence` will do the following:\n",
        "- ensure our model is in evaluation mode, which it should always be for inference\n",
        "- tokenize the source sentence if it has not been tokenized (is a string)\n",
        "- numericalize the source sentence\n",
        "- convert it to a tensor and add a batch dimension\n",
        "- get the length of the source sentence and convert to a tensor\n",
        "- feed the source sentence into the encoder\n",
        "- create the mask for the source sentence\n",
        "- create a list to hold the output sentence, initialized with an `<sos>` token\n",
        "- create a tensor to hold the attention values\n",
        "- while we have not hit a maximum length\n",
        "  - get the input tensor, which should be either `<sos>` or the last predicted token\n",
        "  - feed the input, all encoder outputs, hidden state and mask into the decoder\n",
        "  - store attention values\n",
        "  - get the predicted next token\n",
        "  - add prediction to current output sentence prediction\n",
        "  - break if the prediction was an `<eos>` token\n",
        "- convert the output sentence from indexes to tokens\n",
        "- return the output sentence (with the `<sos>` token removed) and the attention values over the sequence"
      ]
    },
    {
      "cell_type": "code",
      "metadata": {
        "id": "IrtXOtvuf7ek"
      },
      "source": [
        "def translate_sentence(sentence, source2index, target2index, index2target, model, device, max_len = 50):\n",
        "\n",
        "    model.eval()\n",
        "        \n",
        "    if isinstance(sentence, str):\n",
        "        nlp = spacy.load('fr')\n",
        "        tokens = [token.text.lower() for token in nlp(sentence)]\n",
        "    else:\n",
        "        tokens = [token.lower() for token in sentence]\n",
        "    tokens = [\"<SOS>\"] + tokens + [\"<EOS>\"]\n",
        "        \n",
        "    src_indexes = [source2index[token]  if token in source2index else source2index[\"<UNK>\"] for token in tokens]\n",
        "    \n",
        "    src_tensor = torch.LongTensor(src_indexes).unsqueeze(1).to(device)\n",
        "\n",
        "    src_len = torch.LongTensor([len(src_indexes)]).to(device)\n",
        "    \n",
        "    with torch.no_grad():\n",
        "        encoder_outputs, hidden = model.encoder(src_tensor, src_len)\n",
        "\n",
        "    mask = model.create_mask(src_tensor)\n",
        "        \n",
        "    trg_indexes = [target2index[\"<SOS>\"]]\n",
        "\n",
        "    attentions = torch.zeros(max_len, 1, len(src_indexes)).to(device)\n",
        "    \n",
        "    for i in range(max_len):\n",
        "\n",
        "        trg_tensor = torch.LongTensor([trg_indexes[-1]]).to(device)\n",
        "                \n",
        "        with torch.no_grad():\n",
        "            output, hidden, attention = model.decoder(trg_tensor, hidden, encoder_outputs, mask)\n",
        "\n",
        "        attentions[i] = attention\n",
        "            \n",
        "        pred_token = output.argmax(1).item()\n",
        "        \n",
        "        trg_indexes.append(pred_token)\n",
        "\n",
        "        if pred_token == target2index[\"<EOS>\"]:\n",
        "            break\n",
        "    \n",
        "    trg_tokens = [index2target[i] for i in trg_indexes]\n",
        "    \n",
        "    return trg_tokens[1:], attentions[:len(trg_tokens)-1]"
      ],
      "execution_count": null,
      "outputs": []
    },
    {
      "cell_type": "markdown",
      "metadata": {
        "id": "ZtbVtxl7f7en"
      },
      "source": [
        "Next, we'll make a function that displays the model's attention over the source sentence for each target token generated."
      ]
    },
    {
      "cell_type": "code",
      "metadata": {
        "id": "gLLrTFDhf7eq"
      },
      "source": [
        "def display_attention(sentence, translation, attention):\n",
        "    \n",
        "    fig = plt.figure(figsize=(10,10))\n",
        "    ax = fig.add_subplot(111)\n",
        "    \n",
        "    attention = attention.squeeze(1).cpu().detach().numpy()\n",
        "    \n",
        "    cax = ax.matshow(attention, cmap='bone')\n",
        "   \n",
        "    ax.tick_params(labelsize=15)\n",
        "    ax.set_xticklabels(['']+['<SOS>']+[t.lower() for t in sentence]+['<EOS>'], \n",
        "                       rotation=45)\n",
        "    ax.set_yticklabels(['']+translation)\n",
        "\n",
        "    ax.xaxis.set_major_locator(ticker.MultipleLocator(1))\n",
        "    ax.yaxis.set_major_locator(ticker.MultipleLocator(1))\n",
        "\n",
        "    plt.show()\n",
        "    plt.close()"
      ],
      "execution_count": null,
      "outputs": []
    },
    {
      "cell_type": "markdown",
      "metadata": {
        "id": "W05ixoYhf7ev"
      },
      "source": [
        "Now, we'll grab some translations from our dataset and see how well our model did. Note, we're going to cherry pick examples here so it gives us something interesting to look at, but feel free to change the `example_idx` value to look at different examples.\n",
        "\n",
        "First, we'll get a source and target from our dataset."
      ]
    },
    {
      "cell_type": "code",
      "metadata": {
        "id": "5ZOZ90ZJf7ev",
        "outputId": "89d6d714-2929-4a38-89e7-e585d07574f1",
        "colab": {
          "base_uri": "https://localhost:8080/",
          "height": 52
        }
      },
      "source": [
        "example_idx = 25\n",
        "src = X_train[example_idx]\n",
        "trg = y_train[example_idx]\n",
        "#src = train_data[example_idx][0]\n",
        "#trg = train_data[example_idx][1]\n",
        "\n",
        "print(f'src = {src}')\n",
        "print(f'trg = {trg}')"
      ],
      "execution_count": null,
      "outputs": [
        {
          "output_type": "stream",
          "text": [
            "src = ['we', 'all', 'know', 'it', '.']\n",
            "trg = ['nous', 'le', 'savons', 'toutes', '.']\n"
          ],
          "name": "stdout"
        }
      ]
    },
    {
      "cell_type": "markdown",
      "metadata": {
        "id": "iZfa7FR9f7ez"
      },
      "source": [
        "Then we'll use our `translate_sentence` function to get our predicted translation and attention. We show this graphically by having the source sentence on the x-axis and the predicted translation on the y-axis. The lighter the square at the intersection between two words, the more attention the model gave to that source word when translating that target word.\n",
        "\n",
        "Below is an example the model attempted to translate, it gets the translation correct except changes *are fighting* to just *fighting*."
      ]
    },
    {
      "cell_type": "code",
      "metadata": {
        "id": "FcvoC9s_f7e0",
        "outputId": "a8efd311-be94-403f-e181-d04e44daff75",
        "colab": {
          "base_uri": "https://localhost:8080/",
          "height": 34
        }
      },
      "source": [
        "translation, attention = translate_sentence(src, source2index, target2index, index2target, model, device)\n",
        "\n",
        "print(f'predicted trg = {translation}')"
      ],
      "execution_count": null,
      "outputs": [
        {
          "output_type": "stream",
          "text": [
            "predicted trg = ['le', 'tout', 'le', 'cela', '.', '<EOS>']\n"
          ],
          "name": "stdout"
        }
      ]
    },
    {
      "cell_type": "code",
      "metadata": {
        "id": "RrzXS-Syf7e3",
        "outputId": "c58d466c-bee1-4725-ea74-b483280e4d37",
        "colab": {
          "base_uri": "https://localhost:8080/",
          "height": 570
        }
      },
      "source": [
        "display_attention(src, translation, attention)"
      ],
      "execution_count": null,
      "outputs": [
        {
          "output_type": "display_data",
          "data": {
            "image/png": "[encoded data removed]",
            "text/plain": [
              "<Figure size 720x720 with 1 Axes>"
            ]
          },
          "metadata": {
            "tags": [],
            "needs_background": "light"
          }
        }
      ]
    },
    {
      "cell_type": "markdown",
      "metadata": {
        "id": "aYKoFWTTf7e7"
      },
      "source": [
        "Translations from the training set could simply be memorized by the model. So it's only fair we look at translations from the validation and testing set too.\n",
        "\n",
        "Starting with the validation set, let's get an example."
      ]
    },
    {
      "cell_type": "code",
      "metadata": {
        "id": "REaInCZpf7e7",
        "outputId": "71a3ea2b-f783-4688-c30c-db401176b914",
        "colab": {
          "base_uri": "https://localhost:8080/",
          "height": 52
        }
      },
      "source": [
        "example_idx = 14\n",
        "\n",
        "src = X_test[example_idx]\n",
        "trg = y_test[example_idx]\n",
        "\n",
        "print(f'src = {src}')\n",
        "print(f'trg = {trg}')"
      ],
      "execution_count": null,
      "outputs": [
        {
          "output_type": "stream",
          "text": [
            "src = ['i', 'bike', 'to', 'work', '.']\n",
            "trg = ['je', 'me', 'rends', 'au', 'travail', 'en', 'velo', '.']\n"
          ],
          "name": "stdout"
        }
      ]
    },
    {
      "cell_type": "markdown",
      "metadata": {
        "id": "q_fEV79Pf7e-"
      },
      "source": [
        "Then let's generate our translation and view the attention.\n",
        "\n",
        "Here, we can see the translation is the same except for swapping *female* with *woman*."
      ]
    },
    {
      "cell_type": "code",
      "metadata": {
        "id": "-GxaZH9Af7e_",
        "outputId": "035252ac-41ed-473e-b450-a2ccecdfa839",
        "colab": {
          "base_uri": "https://localhost:8080/",
          "height": 652
        }
      },
      "source": [
        "translation, attention = translate_sentence(src, source2index, target2index, index2target, model, device)\n",
        "\n",
        "print(f'predicted trg = {translation}')\n",
        "\n",
        "display_attention(src, translation, attention)"
      ],
      "execution_count": null,
      "outputs": [
        {
          "output_type": "stream",
          "text": [
            "predicted trg = ['ce', 'que', 'j', 'ai', 'retourne', '.', '<EOS>']\n"
          ],
          "name": "stdout"
        },
        {
          "output_type": "display_data",
          "data": {
            "image/png": "[encoded data removed]",
            "text/plain": [
              "<Figure size 720x720 with 1 Axes>"
            ]
          },
          "metadata": {
            "tags": [],
            "needs_background": "light"
          }
        }
      ]
    },
    {
      "cell_type": "markdown",
      "metadata": {
        "id": "aOHy7Ax7f7fC"
      },
      "source": [
        "Finally, let's get an example from the test set."
      ]
    },
    {
      "cell_type": "code",
      "metadata": {
        "id": "Hxtjj0kAf7fD",
        "outputId": "c4e0c672-5054-4e82-b92a-c1e2aaade655",
        "colab": {
          "base_uri": "https://localhost:8080/",
          "height": 52
        }
      },
      "source": [
        "example_idx = 18\n",
        "\n",
        "src = X_test[example_idx]\n",
        "trg = y_test[example_idx]\n",
        "\n",
        "print(f'src = {src}')\n",
        "print(f'trg = {trg}')"
      ],
      "execution_count": null,
      "outputs": [
        {
          "output_type": "stream",
          "text": [
            "src = ['i', 'may', 'be', 'wrong', '.']\n",
            "trg = ['j', 'ai', 'peut', 'etre', 'tort', '.']\n"
          ],
          "name": "stdout"
        }
      ]
    },
    {
      "cell_type": "code",
      "metadata": {
        "id": "N021GLOHf7fJ",
        "outputId": "82f08317-8602-420d-f1dc-3cef8f16ddff",
        "colab": {
          "base_uri": "https://localhost:8080/",
          "height": 652
        }
      },
      "source": [
        "translation, attention = translate_sentence(src, source2index, target2index, index2target, model, device)\n",
        "\n",
        "print(f'predicted trg = {translation}')\n",
        "\n",
        "display_attention(src, translation, attention)"
      ],
      "execution_count": null,
      "outputs": [
        {
          "output_type": "stream",
          "text": [
            "predicted trg = ['que', 'je', 'vous', 'tort', 'tort', '.', '<EOS>']\n"
          ],
          "name": "stdout"
        },
        {
          "output_type": "display_data",
          "data": {
            "image/png": "[encoded data removed]",
            "text/plain": [
              "<Figure size 720x720 with 1 Axes>"
            ]
          },
          "metadata": {
            "tags": [],
            "needs_background": "light"
          }
        }
      ]
    },
    {
      "cell_type": "markdown",
      "metadata": {
        "id": "IBq-TddTf7fN"
      },
      "source": [
        "## BLEU\n",
        "\n",
        "Previously we have only cared about the loss/perplexity of the model. However there metrics that are specifically designed for measuring the quality of a translation - the most popular is *BLEU*. Without going into too much detail, BLEU looks at the overlap in the predicted and actual target sequences in terms of their n-grams. It will give us a number between 0 and 1 for each sequence, where 1 means there is perfect overlap, i.e. a perfect translation, although is usually shown between 0 and 100. BLEU was designed for multiple candidate translations per source sequence, however in this dataset we only have one candidate per source.\n",
        "\n",
        "We define a `calculate_bleu` function which calculates the BLEU score over a provided TorchText dataset. This function creates a corpus of the actual and predicted translation for each source sentence and then calculates the BLEU score."
      ]
    },
    {
      "cell_type": "code",
      "metadata": {
        "id": "YzEv8uewW1zo",
        "outputId": "089163d3-0d25-4426-8543-388dad813604",
        "colab": {
          "base_uri": "https://localhost:8080/",
          "height": 225
        }
      },
      "source": [
        "! pip install torchtext==0.6.0 "
      ],
      "execution_count": null,
      "outputs": [
        {
          "output_type": "stream",
          "text": [
            "Requirement already satisfied: torchtext==0.6.0 in /usr/local/lib/python3.6/dist-packages (0.6.0)\n",
            "Requirement already satisfied: numpy in /usr/local/lib/python3.6/dist-packages (from torchtext==0.6.0) (1.18.5)\n",
            "Requirement already satisfied: six in /usr/local/lib/python3.6/dist-packages (from torchtext==0.6.0) (1.15.0)\n",
            "Requirement already satisfied: requests in /usr/local/lib/python3.6/dist-packages (from torchtext==0.6.0) (2.23.0)\n",
            "Requirement already satisfied: sentencepiece in /usr/local/lib/python3.6/dist-packages (from torchtext==0.6.0) (0.1.91)\n",
            "Requirement already satisfied: torch in /usr/local/lib/python3.6/dist-packages (from torchtext==0.6.0) (1.6.0+cu101)\n",
            "Requirement already satisfied: tqdm in /usr/local/lib/python3.6/dist-packages (from torchtext==0.6.0) (4.41.1)\n",
            "Requirement already satisfied: idna<3,>=2.5 in /usr/local/lib/python3.6/dist-packages (from requests->torchtext==0.6.0) (2.10)\n",
            "Requirement already satisfied: chardet<4,>=3.0.2 in /usr/local/lib/python3.6/dist-packages (from requests->torchtext==0.6.0) (3.0.4)\n",
            "Requirement already satisfied: certifi>=2017.4.17 in /usr/local/lib/python3.6/dist-packages (from requests->torchtext==0.6.0) (2020.6.20)\n",
            "Requirement already satisfied: urllib3!=1.25.0,!=1.25.1,<1.26,>=1.21.1 in /usr/local/lib/python3.6/dist-packages (from requests->torchtext==0.6.0) (1.24.3)\n",
            "Requirement already satisfied: future in /usr/local/lib/python3.6/dist-packages (from torch->torchtext==0.6.0) (0.16.0)\n"
          ],
          "name": "stdout"
        }
      ]
    },
    {
      "cell_type": "code",
      "metadata": {
        "id": "HkRh74jbf7fO"
      },
      "source": [
        "from torchtext.data.metrics import bleu_score\n",
        "\n",
        "def calculate_bleu(X, y, source2index, target2index, index2target, model, device, max_len = 50):\n",
        "    \n",
        "    trgs = []\n",
        "    pred_trgs = []\n",
        "    \n",
        "    for datum in zip(X, y):\n",
        "        \n",
        "        src = datum[0]\n",
        "        trg = datum[1]\n",
        "        \n",
        "        pred_trg, _ = translate_sentence(src, source2index, target2index, index2target, model, device, max_len)\n",
        "        \n",
        "        #cut off <eos> token\n",
        "        pred_trg = pred_trg[:-1]\n",
        "        \n",
        "        pred_trgs.append(pred_trg)\n",
        "        trgs.append([trg])\n",
        "        \n",
        "    return bleu_score(pred_trgs, trgs)"
      ],
      "execution_count": null,
      "outputs": []
    },
    {
      "cell_type": "code",
      "metadata": {
        "id": "DA1pnq4qf7fR",
        "outputId": "737befed-fe0c-464b-8254-e88eae9d31b0",
        "colab": {
          "base_uri": "https://localhost:8080/",
          "height": 34
        }
      },
      "source": [
        "bleu_score = calculate_bleu(X_test, y_test, source2index, target2index, index2target, model, device)\n",
        "\n",
        "print(f'BLEU score = {bleu_score*100:.2f}')"
      ],
      "execution_count": null,
      "outputs": [
        {
          "output_type": "stream",
          "text": [
            "BLEU score = 12.25\n"
          ],
          "name": "stdout"
        }
      ]
    },
    {
      "cell_type": "markdown",
      "metadata": {
        "id": "CtZhpY1Teg_q"
      },
      "source": [
        "## Preparing peraphrase dataset"
      ]
    },
    {
      "cell_type": "code",
      "metadata": {
        "id": "5v7Q8MVXfAIA",
        "outputId": "fae5f9ce-0f44-4de2-dbf7-2d34f0c206f2",
        "colab": {
          "base_uri": "https://localhost:8080/",
          "height": 419
        }
      },
      "source": [
        "if not path.exists(\"paraphrase_data/twitter_test.txt\"):\n",
        "    !wget -O paraphrase_data/twitter_test.txt \"https://www.dropbox.com/sh/hw32kn0k6i0d35c/AABX92bSXzXB_6QTxSwHVyAja/Twitter_URL_Corpus_test.txt?dl=0\"\n",
        "with open(\"paraphrase_data/twitter_test.txt\") as f:\n",
        "    paraphrased_test_pairs = f.readlines()\n",
        "with open(\"paraphrase_data/twitter_train.txt\") as f:\n",
        "    paraphrased_train_pairs = f.readlines()\n",
        "\n",
        "# number of sentences\n",
        "print(len(paraphrased_train_pairs))\n",
        "print(len(paraphrased_test_pairs))"
      ],
      "execution_count": null,
      "outputs": [
        {
          "output_type": "stream",
          "text": [
            "--2020-10-02 13:52:06--  https://www.dropbox.com/sh/hw32kn0k6i0d35c/AABX92bSXzXB_6QTxSwHVyAja/Twitter_URL_Corpus_test.txt?dl=0\n",
            "Resolving www.dropbox.com (www.dropbox.com)... 162.125.1.1, 2620:100:6016:1::a27d:101\n",
            "Connecting to www.dropbox.com (www.dropbox.com)|162.125.1.1|:443... connected.\n",
            "HTTP request sent, awaiting response... 301 Moved Permanently\n",
            "Location: /sh/raw/hw32kn0k6i0d35c/AABX92bSXzXB_6QTxSwHVyAja/Twitter_URL_Corpus_test.txt [following]\n",
            "--2020-10-02 13:52:06--  https://www.dropbox.com/sh/raw/hw32kn0k6i0d35c/AABX92bSXzXB_6QTxSwHVyAja/Twitter_URL_Corpus_test.txt\n",
            "Reusing existing connection to www.dropbox.com:443.\n",
            "HTTP request sent, awaiting response... 302 Found\n",
            "Location: https://uce45482d0e67f587a3dfb03c20e.dl.dropboxusercontent.com/cd/0/inline/BAh4ZK1nZ7bL53JiW1KncoRL-Zr0HIgfKMylB86j7uwDzg22spkg3l4PB-F2XQmQNbzfa2dmOet-LHBOimKzeh8RAZ7A7O8CwHFJoLSZ2sib6F6m82AQ15y36RQDbD370mY/file# [following]\n",
            "--2020-10-02 13:52:06--  https://uce45482d0e67f587a3dfb03c20e.dl.dropboxusercontent.com/cd/0/inline/BAh4ZK1nZ7bL53JiW1KncoRL-Zr0HIgfKMylB86j7uwDzg22spkg3l4PB-F2XQmQNbzfa2dmOet-LHBOimKzeh8RAZ7A7O8CwHFJoLSZ2sib6F6m82AQ15y36RQDbD370mY/file\n",
            "Resolving uce45482d0e67f587a3dfb03c20e.dl.dropboxusercontent.com (uce45482d0e67f587a3dfb03c20e.dl.dropboxusercontent.com)... 162.125.1.15, 2620:100:6016:15::a27d:10f\n",
            "Connecting to uce45482d0e67f587a3dfb03c20e.dl.dropboxusercontent.com (uce45482d0e67f587a3dfb03c20e.dl.dropboxusercontent.com)|162.125.1.15|:443... connected.\n",
            "HTTP request sent, awaiting response... 200 OK\n",
            "Length: 2132711 (2.0M) [text/plain]\n",
            "Saving to: ‘paraphrase_data/twitter_test.txt’\n",
            "\n",
            "paraphrase_data/twi 100%[===================>]   2.03M  --.-KB/s    in 0.09s   \n",
            "\n",
            "2020-10-02 13:52:06 (23.8 MB/s) - ‘paraphrase_data/twitter_test.txt’ saved [2132711/2132711]\n",
            "\n",
            "46667\n",
            "10120\n"
          ],
          "name": "stdout"
        }
      ]
    },
    {
      "cell_type": "code",
      "metadata": {
        "id": "qscsEq8DfAIS"
      },
      "source": [
        "def my_collate(batch, x_to_ix, y_to_ix):\n",
        "    sorted_batch =  sorted(batch, key=lambda b:b[0].size(1), reverse=True) # sort by len\n",
        "    x,y = list(zip(*sorted_batch))\n",
        "    max_x = max([s.size(1) for s in x])\n",
        "    max_y = max([s.size(1) for s in y])\n",
        "    x_p, y_p = [], []\n",
        "    for i in range(len(batch)):\n",
        "        if x[i].size(1) < max_x:\n",
        "            x_p.append(torch.cat([x[i], Variable(LongTensor([x_to_ix['<PAD>']] * (max_x - x[i].size(1)))).view(1, -1)], 1))\n",
        "        else:\n",
        "            x_p.append(x[i])\n",
        "        if y[i].size(1) < max_y:\n",
        "            y_p.append(torch.cat([y[i], Variable(LongTensor([y_to_ix['<PAD>']] * (max_y - y[i].size(1)))).view(1, -1)], 1))\n",
        "        else:\n",
        "            y_p.append(y[i])\n",
        "        \n",
        "    input_var = torch.cat(x_p)\n",
        "    target_var = torch.cat(y_p)\n",
        "    input_len = [list(map(lambda s: s ==0, t.data)).count(False) for t in input_var]\n",
        "    target_len = [list(map(lambda s: s ==0, t.data)).count(False) for t in target_var]\n",
        "    \n",
        "    return input_var, target_var, input_len, target_len"
      ],
      "execution_count": null,
      "outputs": []
    },
    {
      "cell_type": "code",
      "metadata": {
        "id": "OmNNhdy2fAIb"
      },
      "source": [
        "def prepare_sequence(seq, to_index):\n",
        "    idxs = list(map(lambda w: to_index[w] if to_index.get(w) is not None else to_index[\"<UNK>\"], seq))\n",
        "    return Variable(LongTensor(idxs))"
      ],
      "execution_count": null,
      "outputs": []
    },
    {
      "cell_type": "code",
      "metadata": {
        "id": "-Mr8R9aGfAIi"
      },
      "source": [
        "# Turn a Unicode string to plain ASCII, thanks to http://stackoverflow.com/a/518232/2809427\n",
        "def unicode_to_ascii(s):\n",
        "    return ''.join(\n",
        "        c for c in unicodedata.normalize('NFD', s)\n",
        "        if unicodedata.category(c) != 'Mn'\n",
        "    )\n",
        "\n",
        "# Lowercase, trim, and remove non-letter characters\n",
        "def normalize_string(s):\n",
        "    s = unicode_to_ascii(s.lower().strip())\n",
        "    s = re.sub(r\"([,.!?])\", r\" \\1 \", s)\n",
        "    s = re.sub(r\"[^a-zA-Z,.!?]+\", r\" \", s)\n",
        "    s = re.sub(r\"\\s+\", r\" \", s).strip()\n",
        "    return s"
      ],
      "execution_count": null,
      "outputs": []
    },
    {
      "cell_type": "code",
      "metadata": {
        "id": "tHLk2f86fAIo"
      },
      "source": [
        "MIN_LENGTH = 3\n",
        "MAX_LENGTH = 15"
      ],
      "execution_count": null,
      "outputs": []
    },
    {
      "cell_type": "code",
      "metadata": {
        "id": "tElrq-tPfAIu"
      },
      "source": [
        "sentences = sentences[:40000]"
      ],
      "execution_count": null,
      "outputs": []
    },
    {
      "cell_type": "code",
      "metadata": {
        "id": "Ci8hDuqSfAI0",
        "outputId": "07e4d778-7af5-4db9-8af4-ed63c9e4f85d",
        "colab": {
          "base_uri": "https://localhost:8080/",
          "height": 86
        }
      },
      "source": [
        "%%time\n",
        "X_r, y_r = [], [] # raw\n",
        "\n",
        "for parallel in sentences:\n",
        "    so,ta = parallel[:-1].split('\\t')[0:2]\n",
        "    if so.strip() == \"\" or ta.strip() == \"\": \n",
        "        continue\n",
        "    \n",
        "    normalized_so = normalize_string(so).split()\n",
        "    normalized_ta = normalize_string(ta).split()\n",
        "    \n",
        "    if len(normalized_so) >= MIN_LENGTH and len(normalized_so) <= MAX_LENGTH \\\n",
        "    and len(normalized_ta) >= MIN_LENGTH and len(normalized_ta) <= MAX_LENGTH:\n",
        "        X_r.append(normalized_so)\n",
        "        y_r.append(normalized_ta)\n",
        "    \n",
        "\n",
        "print(len(X_r), len(y_r))\n",
        "print(X_r[0], y_r[0])"
      ],
      "execution_count": null,
      "outputs": [
        {
          "output_type": "stream",
          "text": [
            "39778 39778\n",
            "['i', 'see', '.'] ['je', 'comprends', '.']\n",
            "CPU times: user 1.01 s, sys: 15.4 ms, total: 1.02 s\n",
            "Wall time: 1.03 s\n"
          ],
          "name": "stdout"
        }
      ]
    },
    {
      "cell_type": "code",
      "metadata": {
        "id": "Zp287sknfAI6"
      },
      "source": [
        "from sklearn.model_selection import train_test_split"
      ],
      "execution_count": null,
      "outputs": []
    },
    {
      "cell_type": "code",
      "metadata": {
        "id": "uiHCg4vxfAJA"
      },
      "source": [
        "X_train, X_test, y_train, y_test = train_test_split(X_r, y_r, test_size=0.2, random_state=42)"
      ],
      "execution_count": null,
      "outputs": []
    },
    {
      "cell_type": "code",
      "metadata": {
        "id": "t0jDrEl5fAJF",
        "outputId": "e575760b-4793-4ee0-d1c9-e65959cd6251",
        "colab": {
          "base_uri": "https://localhost:8080/",
          "height": 34
        }
      },
      "source": [
        "source_vocab = list(set(flatten(X_train)))\n",
        "target_vocab = list(set(flatten(y_train)))\n",
        "print(len(source_vocab), len(target_vocab))"
      ],
      "execution_count": null,
      "outputs": [
        {
          "output_type": "stream",
          "text": [
            "4802 8069\n"
          ],
          "name": "stdout"
        }
      ]
    },
    {
      "cell_type": "code",
      "metadata": {
        "id": "K_D3v1-kfAJK"
      },
      "source": [
        "source2index = {'<PAD>': 0, '<UNK>': 1, '<SOS>': 2, '<EOS>': 3}\n",
        "for vo in source_vocab:\n",
        "    if source2index.get(vo) is None:\n",
        "        source2index[vo] = len(source2index)\n",
        "index2source = {v:k for k, v in source2index.items()}\n",
        "\n",
        "target2index = {'<PAD>': 0, '<UNK>': 1, '<SOS>': 2, '<EOS>': 3}\n",
        "for vo in target_vocab:\n",
        "    if target2index.get(vo) is None:\n",
        "        target2index[vo] = len(target2index)\n",
        "index2target = {v:k for k, v in target2index.items()}"
      ],
      "execution_count": null,
      "outputs": []
    },
    {
      "cell_type": "code",
      "metadata": {
        "id": "Q69qU9YsfAJP"
      },
      "source": [
        "def get_prepared_dataset(X, y):\n",
        "  X_proc, y_proc = [], []\n",
        "  for so, ta in zip(X, y):\n",
        "    X_proc.append(prepare_sequence(so + ['<EOS>'], source2index).view(1, -1))\n",
        "    y_proc.append(prepare_sequence(ta + ['<EOS>'], target2index).view(1, -1))\n",
        "  return X_proc, y_proc"
      ],
      "execution_count": null,
      "outputs": []
    },
    {
      "cell_type": "code",
      "metadata": {
        "id": "bafde3tKfAJU",
        "outputId": "7b26c2e3-7c75-4353-b95a-678114518049",
        "colab": {
          "base_uri": "https://localhost:8080/",
          "height": 52
        }
      },
      "source": [
        "%%time\n",
        "X_train_proc, y_train_proc = get_prepared_dataset(X_train, y_train) \n",
        "X_test_proc, y_test_proc = get_prepared_dataset(X_test, y_test)\n",
        "train_data = list(zip(X_train_proc, y_train_proc))\n",
        "test_data = list(zip(X_test_proc, y_test_proc))"
      ],
      "execution_count": null,
      "outputs": [
        {
          "output_type": "stream",
          "text": [
            "CPU times: user 4.78 s, sys: 1.39 s, total: 6.17 s\n",
            "Wall time: 6.19 s\n"
          ],
          "name": "stdout"
        }
      ]
    },
    {
      "cell_type": "code",
      "metadata": {
        "id": "coHkDGH3fAJa"
      },
      "source": [
        "class MTDataset(torch.utils.data.Dataset):\n",
        "    def __init__(self, X, y):\n",
        "    # import and initialize dataset    \n",
        "        self.source = X\n",
        "        self.output = y \n",
        "    \n",
        "    def __getitem__(self, idx):\n",
        "    # get item by index\n",
        "        return self.source[idx], self.output[idx]\n",
        "  \n",
        "    def __len__(self):\n",
        "    # returns length of data\n",
        "        return len(self.source)"
      ],
      "execution_count": null,
      "outputs": []
    },
    {
      "cell_type": "code",
      "metadata": {
        "id": "5TH83cIyfAJg"
      },
      "source": [
        "BATCH_SIZE = 256"
      ],
      "execution_count": null,
      "outputs": []
    },
    {
      "cell_type": "code",
      "metadata": {
        "id": "7GmEFQeTfAJk"
      },
      "source": [
        "train_dataset = MTDataset(X_train_proc, y_train_proc)\n",
        "test_dataset = MTDataset(X_test_proc, y_test_proc)\n",
        "train_loader = torch.utils.data.DataLoader(train_dataset, batch_size = BATCH_SIZE, shuffle=True, \n",
        "                                           collate_fn=partial(my_collate, x_to_ix=source2index, y_to_ix=target2index))\n",
        "test_loader = torch.utils.data.DataLoader(test_dataset, batch_size = BATCH_SIZE, shuffle=True, \n",
        "                                          collate_fn=partial(my_collate, x_to_ix=source2index, y_to_ix=target2index))"
      ],
      "execution_count": null,
      "outputs": []
    }
  ]
}